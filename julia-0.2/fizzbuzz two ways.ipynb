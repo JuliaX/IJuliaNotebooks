{
 "metadata": {
  "language": "Julia",
  "name": ""
 },
 "nbformat": 3,
 "nbformat_minor": 0,
 "worksheets": [
  {
   "cells": [
    {
     "cell_type": "markdown",
     "metadata": {},
     "source": [
      "# FizzBuzz version 1"
     ]
    },
    {
     "cell_type": "code",
     "collapsed": false,
     "input": [
      "println(\"Hello, world.\")"
     ],
     "language": "python",
     "metadata": {},
     "outputs": [
      {
       "output_type": "stream",
       "stream": "stdout",
       "text": [
        "Hello, world.\n"
       ]
      }
     ],
     "prompt_number": 1
    },
    {
     "cell_type": "code",
     "collapsed": false,
     "input": [
      "for i = 1:10\n",
      "    println(i)\n",
      "end"
     ],
     "language": "python",
     "metadata": {},
     "outputs": [
      {
       "output_type": "stream",
       "stream": "stdout",
       "text": [
        "1\n"
       ]
      },
      {
       "output_type": "stream",
       "stream": "stdout",
       "text": [
        "2\n",
        "3\n",
        "4\n",
        "5\n",
        "6\n",
        "7\n",
        "8\n",
        "9\n",
        "10\n"
       ]
      }
     ],
     "prompt_number": 2
    },
    {
     "cell_type": "code",
     "collapsed": false,
     "input": [
      "rand()"
     ],
     "language": "python",
     "metadata": {},
     "outputs": [
      {
       "metadata": {},
       "output_type": "pyout",
       "prompt_number": 6,
       "text": [
        "0.9573326103757271"
       ]
      }
     ],
     "prompt_number": 6
    },
    {
     "cell_type": "code",
     "collapsed": false,
     "input": [
      "if rand() < 0.5\n",
      "    println(\"less\")\n",
      "else\n",
      "    println(\"more\")\n",
      "end"
     ],
     "language": "python",
     "metadata": {},
     "outputs": [
      {
       "output_type": "stream",
       "stream": "stdout",
       "text": [
        "more\n"
       ]
      }
     ],
     "prompt_number": 22
    },
    {
     "cell_type": "code",
     "collapsed": false,
     "input": [
      "if rand() < 0.5\n",
      "    \"less\"\n",
      "else\n",
      "    \"more\"\n",
      "end"
     ],
     "language": "python",
     "metadata": {},
     "outputs": [
      {
       "metadata": {},
       "output_type": "pyout",
       "prompt_number": 24,
       "text": [
        "\"more\""
       ]
      }
     ],
     "prompt_number": 24
    },
    {
     "cell_type": "code",
     "collapsed": false,
     "input": [
      "x = println(\"Hello\")"
     ],
     "language": "python",
     "metadata": {},
     "outputs": [
      {
       "output_type": "stream",
       "stream": "stdout",
       "text": [
        "Hello\n"
       ]
      }
     ],
     "prompt_number": 25
    },
    {
     "cell_type": "code",
     "collapsed": false,
     "input": [
      "typeof(x)"
     ],
     "language": "python",
     "metadata": {},
     "outputs": [
      {
       "metadata": {},
       "output_type": "pyout",
       "prompt_number": 26,
       "text": [
        "Nothing (constructor with 1 method)"
       ]
      }
     ],
     "prompt_number": 26
    },
    {
     "cell_type": "code",
     "collapsed": false,
     "input": [
      "(x,)"
     ],
     "language": "python",
     "metadata": {},
     "outputs": [
      {
       "metadata": {},
       "output_type": "pyout",
       "prompt_number": 27,
       "text": [
        "(nothing,)"
       ]
      }
     ],
     "prompt_number": 27
    },
    {
     "cell_type": "code",
     "collapsed": false,
     "input": [
      "5 % 3"
     ],
     "language": "python",
     "metadata": {},
     "outputs": [
      {
       "metadata": {},
       "output_type": "pyout",
       "prompt_number": 28,
       "text": [
        "2"
       ]
      }
     ],
     "prompt_number": 28
    },
    {
     "cell_type": "code",
     "collapsed": false,
     "input": [
      "6 % 3 == 0"
     ],
     "language": "python",
     "metadata": {},
     "outputs": [
      {
       "metadata": {},
       "output_type": "pyout",
       "prompt_number": 30,
       "text": [
        "true"
       ]
      }
     ],
     "prompt_number": 30
    },
    {
     "cell_type": "code",
     "collapsed": false,
     "input": [
      "7 % 3 == 0"
     ],
     "language": "python",
     "metadata": {},
     "outputs": [
      {
       "metadata": {},
       "output_type": "pyout",
       "prompt_number": 31,
       "text": [
        "false"
       ]
      }
     ],
     "prompt_number": 31
    },
    {
     "cell_type": "code",
     "collapsed": false,
     "input": [
      "true && true"
     ],
     "language": "python",
     "metadata": {},
     "outputs": [
      {
       "metadata": {},
       "output_type": "pyout",
       "prompt_number": 32,
       "text": [
        "true"
       ]
      }
     ],
     "prompt_number": 32
    },
    {
     "cell_type": "code",
     "collapsed": false,
     "input": [
      "true && false"
     ],
     "language": "python",
     "metadata": {},
     "outputs": [
      {
       "metadata": {},
       "output_type": "pyout",
       "prompt_number": 33,
       "text": [
        "false"
       ]
      }
     ],
     "prompt_number": 33
    },
    {
     "cell_type": "code",
     "collapsed": false,
     "input": [
      "for k = 1:100\n",
      "    if k % 3 == 0 && k % 5 == 0\n",
      "        println(\"FizzBuzz\")\n",
      "    elseif k % 3 == 0\n",
      "        println(\"Fizz\")\n",
      "    elseif k % 5 == 0\n",
      "        println(\"Buzz\")\n",
      "    else\n",
      "        println(k)\n",
      "    end\n",
      "end"
     ],
     "language": "python",
     "metadata": {},
     "outputs": [
      {
       "output_type": "stream",
       "stream": "stdout",
       "text": [
        "1\n"
       ]
      },
      {
       "output_type": "stream",
       "stream": "stdout",
       "text": [
        "2\n",
        "Fizz\n",
        "4\n",
        "Buzz\n",
        "Fizz\n",
        "7\n",
        "8\n",
        "Fizz\n",
        "Buzz\n",
        "11\n",
        "Fizz\n",
        "13\n",
        "14\n",
        "FizzBuzz\n",
        "16\n",
        "17\n",
        "Fizz\n",
        "19\n",
        "Buzz\n",
        "Fizz\n",
        "22\n",
        "23\n",
        "Fizz\n",
        "Buzz\n",
        "26\n",
        "Fizz\n",
        "28\n",
        "29\n",
        "FizzBuzz\n",
        "31\n",
        "32\n",
        "Fizz\n",
        "34\n",
        "Buzz\n",
        "Fizz\n",
        "37\n",
        "38\n",
        "Fizz\n",
        "Buzz\n",
        "41\n",
        "Fizz\n",
        "43\n",
        "44\n",
        "FizzBuzz\n",
        "46\n",
        "47\n",
        "Fizz\n",
        "49\n",
        "Buzz\n",
        "Fizz\n",
        "52\n",
        "53\n",
        "Fizz\n",
        "Buzz\n",
        "56\n",
        "Fizz\n",
        "58\n",
        "59\n",
        "FizzBuzz\n",
        "61\n",
        "62\n",
        "Fizz\n",
        "64\n",
        "Buzz\n",
        "Fizz\n",
        "67\n",
        "68\n",
        "Fizz\n",
        "Buzz\n",
        "71\n",
        "Fizz\n",
        "73\n",
        "74\n",
        "FizzBuzz\n",
        "76\n",
        "77\n",
        "Fizz\n",
        "79\n",
        "Buzz\n",
        "Fizz\n",
        "82\n",
        "83\n",
        "Fizz\n",
        "Buzz\n",
        "86\n",
        "Fizz\n",
        "88\n",
        "89\n",
        "FizzBuzz\n",
        "91\n",
        "92\n",
        "Fizz\n",
        "94\n",
        "Buzz\n",
        "Fizz\n",
        "97\n",
        "98\n",
        "Fizz\n",
        "Buzz\n"
       ]
      }
     ],
     "prompt_number": 35
    },
    {
     "cell_type": "markdown",
     "metadata": {},
     "source": [
      "# FizzBuzz version 2"
     ]
    },
    {
     "cell_type": "code",
     "collapsed": false,
     "input": [
      "type FizzBuzz{m,n} end"
     ],
     "language": "python",
     "metadata": {},
     "outputs": [],
     "prompt_number": 36
    },
    {
     "cell_type": "code",
     "collapsed": false,
     "input": [
      "FizzBuzz{1,2}"
     ],
     "language": "python",
     "metadata": {},
     "outputs": [
      {
       "metadata": {},
       "output_type": "pyout",
       "prompt_number": 37,
       "text": [
        "FizzBuzz{1,2} (constructor with 1 method)"
       ]
      }
     ],
     "prompt_number": 37
    },
    {
     "cell_type": "code",
     "collapsed": false,
     "input": [
      "typeof(ans)"
     ],
     "language": "python",
     "metadata": {},
     "outputs": [
      {
       "metadata": {},
       "output_type": "pyout",
       "prompt_number": 38,
       "text": [
        "DataType"
       ]
      }
     ],
     "prompt_number": 38
    },
    {
     "cell_type": "code",
     "collapsed": false,
     "input": [
      "FizzBuzz{1,2} <: FizzBuzz"
     ],
     "language": "python",
     "metadata": {},
     "outputs": [
      {
       "metadata": {},
       "output_type": "pyout",
       "prompt_number": 39,
       "text": [
        "true"
       ]
      }
     ],
     "prompt_number": 39
    },
    {
     "cell_type": "code",
     "collapsed": false,
     "input": [
      "FizzBuzz{1,2} <: FizzBuzz{1}"
     ],
     "language": "python",
     "metadata": {},
     "outputs": [
      {
       "metadata": {},
       "output_type": "pyout",
       "prompt_number": 40,
       "text": [
        "true"
       ]
      }
     ],
     "prompt_number": 40
    },
    {
     "cell_type": "code",
     "collapsed": false,
     "input": [
      "Array{Int,1}"
     ],
     "language": "python",
     "metadata": {},
     "outputs": [
      {
       "metadata": {},
       "output_type": "pyout",
       "prompt_number": 41,
       "text": [
        "Array{Int64,1}"
       ]
      }
     ],
     "prompt_number": 41
    },
    {
     "cell_type": "code",
     "collapsed": false,
     "input": [
      "[1 2 3; 4 5 6]"
     ],
     "language": "python",
     "metadata": {},
     "outputs": [
      {
       "metadata": {},
       "output_type": "pyout",
       "prompt_number": 44,
       "text": [
        "2x3 Array{Int64,2}:\n",
        " 1  2  3\n",
        " 4  5  6"
       ]
      }
     ],
     "prompt_number": 44
    },
    {
     "cell_type": "code",
     "collapsed": false,
     "input": [
      "typeof(1)"
     ],
     "language": "python",
     "metadata": {},
     "outputs": [
      {
       "metadata": {},
       "output_type": "pyout",
       "prompt_number": 45,
       "text": [
        "Int64"
       ]
      }
     ],
     "prompt_number": 45
    },
    {
     "cell_type": "code",
     "collapsed": false,
     "input": [
      "typeof(1.5)"
     ],
     "language": "python",
     "metadata": {},
     "outputs": [
      {
       "metadata": {},
       "output_type": "pyout",
       "prompt_number": 46,
       "text": [
        "Float64"
       ]
      }
     ],
     "prompt_number": 46
    },
    {
     "cell_type": "code",
     "collapsed": false,
     "input": [
      "typeof(\"Hello\")"
     ],
     "language": "python",
     "metadata": {},
     "outputs": [
      {
       "metadata": {},
       "output_type": "pyout",
       "prompt_number": 47,
       "text": [
        "ASCIIString (constructor with 1 method)"
       ]
      }
     ],
     "prompt_number": 47
    },
    {
     "cell_type": "code",
     "collapsed": false,
     "input": [
      "typeof(\"Hello, \u00fc there\")"
     ],
     "language": "python",
     "metadata": {},
     "outputs": [
      {
       "metadata": {},
       "output_type": "pyout",
       "prompt_number": 48,
       "text": [
        "UTF8String (constructor with 1 method)"
       ]
      }
     ],
     "prompt_number": 48
    },
    {
     "cell_type": "code",
     "collapsed": false,
     "input": [
      "f(x,y) = \"fallback\""
     ],
     "language": "python",
     "metadata": {},
     "outputs": [
      {
       "metadata": {},
       "output_type": "pyout",
       "prompt_number": 49,
       "text": [
        "f (generic function with 1 method)"
       ]
      }
     ],
     "prompt_number": 49
    },
    {
     "cell_type": "code",
     "collapsed": false,
     "input": [
      "f(1,\"foo\")"
     ],
     "language": "python",
     "metadata": {},
     "outputs": [
      {
       "metadata": {},
       "output_type": "pyout",
       "prompt_number": 50,
       "text": [
        "\"fallback\""
       ]
      }
     ],
     "prompt_number": 50
    },
    {
     "cell_type": "code",
     "collapsed": false,
     "input": [
      "f(1)"
     ],
     "language": "python",
     "metadata": {},
     "outputs": [
      {
       "ename": "LoadError",
       "evalue": "no method f(Int64)\nwhile loading In[51], in expression starting on line 1",
       "output_type": "pyerr",
       "traceback": [
        "no method f(Int64)\nwhile loading In[51], in expression starting on line 1"
       ]
      }
     ],
     "prompt_number": 51
    },
    {
     "cell_type": "code",
     "collapsed": false,
     "input": [
      "function longer(x,y)\n",
      "    println(\"x = $x, y = $y\")\n",
      "end"
     ],
     "language": "python",
     "metadata": {},
     "outputs": [
      {
       "metadata": {},
       "output_type": "pyout",
       "prompt_number": 52,
       "text": [
        "longer (generic function with 1 method)"
       ]
      }
     ],
     "prompt_number": 52
    },
    {
     "cell_type": "code",
     "collapsed": false,
     "input": [
      "longer(1,2)"
     ],
     "language": "python",
     "metadata": {},
     "outputs": [
      {
       "output_type": "stream",
       "stream": "stdout",
       "text": [
        "x = 1, y = 2\n"
       ]
      }
     ],
     "prompt_number": 53
    },
    {
     "cell_type": "code",
     "collapsed": false,
     "input": [
      "f(x::Number, y::Number) = \"x and y are both numbers\""
     ],
     "language": "python",
     "metadata": {},
     "outputs": [
      {
       "metadata": {},
       "output_type": "pyout",
       "prompt_number": 54,
       "text": [
        "f (generic function with 2 methods)"
       ]
      }
     ],
     "prompt_number": 54
    },
    {
     "cell_type": "code",
     "collapsed": false,
     "input": [
      "methods(f)"
     ],
     "language": "python",
     "metadata": {},
     "outputs": [
      {
       "html": [
        "2 methods for generic function <b>f</b>:<ul><li> f(x::<b>Number</b>,y::<b>Number</b>) at In[54]:1<li> f(x,y) at In[49]:1</ul>"
       ],
       "metadata": {},
       "output_type": "pyout",
       "prompt_number": 55,
       "text": [
        "# 2 methods for generic function \"f\":\n",
        "f(x::Number,y::Number) at In[54]:1\n",
        "f(x,y) at In[49]:1"
       ]
      }
     ],
     "prompt_number": 55
    },
    {
     "cell_type": "code",
     "collapsed": false,
     "input": [
      "f(1,2)"
     ],
     "language": "python",
     "metadata": {},
     "outputs": [
      {
       "metadata": {},
       "output_type": "pyout",
       "prompt_number": 56,
       "text": [
        "\"x and y are both numbers\""
       ]
      }
     ],
     "prompt_number": 56
    },
    {
     "cell_type": "code",
     "collapsed": false,
     "input": [
      "f(1,\"string\")"
     ],
     "language": "python",
     "metadata": {},
     "outputs": [
      {
       "metadata": {},
       "output_type": "pyout",
       "prompt_number": 57,
       "text": [
        "\"fallback\""
       ]
      }
     ],
     "prompt_number": 57
    },
    {
     "cell_type": "code",
     "collapsed": false,
     "input": [
      "f(x::Number, y) = \"x is a number\""
     ],
     "language": "python",
     "metadata": {},
     "outputs": [
      {
       "metadata": {},
       "output_type": "pyout",
       "prompt_number": 58,
       "text": [
        "f (generic function with 3 methods)"
       ]
      }
     ],
     "prompt_number": 58
    },
    {
     "cell_type": "code",
     "collapsed": false,
     "input": [
      "f(1,2)"
     ],
     "language": "python",
     "metadata": {},
     "outputs": [
      {
       "metadata": {},
       "output_type": "pyout",
       "prompt_number": 59,
       "text": [
        "\"x and y are both numbers\""
       ]
      }
     ],
     "prompt_number": 59
    },
    {
     "cell_type": "code",
     "collapsed": false,
     "input": [
      "f(1,\"foo\")"
     ],
     "language": "python",
     "metadata": {},
     "outputs": [
      {
       "metadata": {},
       "output_type": "pyout",
       "prompt_number": 60,
       "text": [
        "\"x is a number\""
       ]
      }
     ],
     "prompt_number": 60
    },
    {
     "cell_type": "code",
     "collapsed": false,
     "input": [
      "f(\"foo\",2)"
     ],
     "language": "python",
     "metadata": {},
     "outputs": [
      {
       "metadata": {},
       "output_type": "pyout",
       "prompt_number": 61,
       "text": [
        "\"fallback\""
       ]
      }
     ],
     "prompt_number": 61
    },
    {
     "cell_type": "code",
     "collapsed": false,
     "input": [
      "f(x, y::Number) = \"y is a number\""
     ],
     "language": "python",
     "metadata": {},
     "outputs": [
      {
       "metadata": {},
       "output_type": "pyout",
       "prompt_number": 62,
       "text": [
        "f (generic function with 4 methods)"
       ]
      }
     ],
     "prompt_number": 62
    },
    {
     "cell_type": "code",
     "collapsed": false,
     "input": [
      "f(\"foo\",2)"
     ],
     "language": "python",
     "metadata": {},
     "outputs": [
      {
       "metadata": {},
       "output_type": "pyout",
       "prompt_number": 63,
       "text": [
        "\"y is a number\""
       ]
      }
     ],
     "prompt_number": 63
    },
    {
     "cell_type": "code",
     "collapsed": false,
     "input": [
      "methods(f)"
     ],
     "language": "python",
     "metadata": {},
     "outputs": [
      {
       "html": [
        "4 methods for generic function <b>f</b>:<ul><li> f(x::<b>Number</b>,y::<b>Number</b>) at In[54]:1<li> f(x::<b>Number</b>,y) at In[58]:1<li> f(x,y::<b>Number</b>) at In[62]:1<li> f(x,y) at In[49]:1</ul>"
       ],
       "metadata": {},
       "output_type": "pyout",
       "prompt_number": 64,
       "text": [
        "# 4 methods for generic function \"f\":\n",
        "f(x::Number,y::Number) at In[54]:1\n",
        "f(x::Number,y) at In[58]:1\n",
        "f(x,y::Number) at In[62]:1\n",
        "f(x,y) at In[49]:1"
       ]
      }
     ],
     "prompt_number": 64
    },
    {
     "cell_type": "code",
     "collapsed": false,
     "input": [
      "f(x::Int, y::Int) = \"x and y are both Ints\""
     ],
     "language": "python",
     "metadata": {},
     "outputs": [
      {
       "metadata": {},
       "output_type": "pyout",
       "prompt_number": 65,
       "text": [
        "f (generic function with 5 methods)"
       ]
      }
     ],
     "prompt_number": 65
    },
    {
     "cell_type": "code",
     "collapsed": false,
     "input": [
      "f(1,2)"
     ],
     "language": "python",
     "metadata": {},
     "outputs": [
      {
       "metadata": {},
       "output_type": "pyout",
       "prompt_number": 66,
       "text": [
        "\"x and y are both Ints\""
       ]
      }
     ],
     "prompt_number": 66
    },
    {
     "cell_type": "code",
     "collapsed": false,
     "input": [
      "f(1,2.5)"
     ],
     "language": "python",
     "metadata": {},
     "outputs": [
      {
       "metadata": {},
       "output_type": "pyout",
       "prompt_number": 67,
       "text": [
        "\"x and y are both numbers\""
       ]
      }
     ],
     "prompt_number": 67
    },
    {
     "cell_type": "code",
     "collapsed": false,
     "input": [
      "methods(f)"
     ],
     "language": "python",
     "metadata": {},
     "outputs": [
      {
       "html": [
        "5 methods for generic function <b>f</b>:<ul><li> f(x::<b>Int64</b>,y::<b>Int64</b>) at In[65]:1<li> f(x::<b>Number</b>,y::<b>Number</b>) at In[54]:1<li> f(x::<b>Number</b>,y) at In[58]:1<li> f(x,y::<b>Number</b>) at In[62]:1<li> f(x,y) at In[49]:1</ul>"
       ],
       "metadata": {},
       "output_type": "pyout",
       "prompt_number": 68,
       "text": [
        "# 5 methods for generic function \"f\":\n",
        "f(x::Int64,y::Int64) at In[65]:1\n",
        "f(x::Number,y::Number) at In[54]:1\n",
        "f(x::Number,y) at In[58]:1\n",
        "f(x,y::Number) at In[62]:1\n",
        "f(x,y) at In[49]:1"
       ]
      }
     ],
     "prompt_number": 68
    },
    {
     "cell_type": "code",
     "collapsed": false,
     "input": [
      "fizzbuzz(k::Int, ::FizzBuzz) = k\n",
      "fizzbuzz(k::Int, ::FizzBuzz{0}) = \"Fizz\"\n",
      "fizzbuzz(k::Int, ::FizzBuzz{0,0}) = \"FizzBuzz\"\n",
      "fizzbuzz{m}(k::Int, ::FizzBuzz{m,0}) = \"Buzz\""
     ],
     "language": "python",
     "metadata": {},
     "outputs": [
      {
       "metadata": {},
       "output_type": "pyout",
       "prompt_number": 84,
       "text": [
        "fizzbuzz (generic function with 4 methods)"
       ]
      }
     ],
     "prompt_number": 84
    },
    {
     "cell_type": "code",
     "collapsed": false,
     "input": [
      "for k = 1:100\n",
      "    println(fizzbuzz(k, FizzBuzz{k%3,k%5}()))\n",
      "end"
     ],
     "language": "python",
     "metadata": {},
     "outputs": [
      {
       "output_type": "stream",
       "stream": "stdout",
       "text": [
        "1\n"
       ]
      },
      {
       "output_type": "stream",
       "stream": "stdout",
       "text": [
        "2\n",
        "Fizz\n",
        "4\n",
        "Buzz\n",
        "Fizz\n",
        "7\n",
        "8\n",
        "Fizz\n",
        "Buzz\n",
        "11\n",
        "Fizz\n",
        "13\n",
        "14\n",
        "FizzBuzz\n",
        "16\n",
        "17\n",
        "Fizz\n",
        "19\n",
        "Buzz\n",
        "Fizz\n",
        "22\n",
        "23\n",
        "Fizz\n",
        "Buzz\n",
        "26\n",
        "Fizz\n",
        "28\n",
        "29\n",
        "FizzBuzz\n",
        "31\n",
        "32\n",
        "Fizz\n",
        "34\n",
        "Buzz\n",
        "Fizz\n",
        "37\n",
        "38\n",
        "Fizz\n",
        "Buzz\n",
        "41\n",
        "Fizz\n",
        "43\n",
        "44\n",
        "FizzBuzz\n",
        "46\n",
        "47\n",
        "Fizz\n",
        "49\n",
        "Buzz\n",
        "Fizz\n",
        "52\n",
        "53\n",
        "Fizz\n",
        "Buzz\n",
        "56\n",
        "Fizz\n",
        "58\n",
        "59\n",
        "FizzBuzz\n",
        "61\n",
        "62\n",
        "Fizz\n",
        "64\n",
        "Buzz\n",
        "Fizz\n",
        "67\n",
        "68\n",
        "Fizz\n",
        "Buzz\n",
        "71\n",
        "Fizz\n",
        "73\n",
        "74\n",
        "FizzBuzz\n",
        "76\n",
        "77\n",
        "Fizz\n",
        "79\n",
        "Buzz\n",
        "Fizz\n",
        "82\n",
        "83\n",
        "Fizz\n",
        "Buzz\n",
        "86\n",
        "Fizz\n",
        "88\n",
        "89\n",
        "FizzBuzz\n",
        "91\n",
        "92\n",
        "Fizz\n",
        "94\n",
        "Buzz\n",
        "Fizz\n",
        "97\n",
        "98\n",
        "Fizz\n",
        "Buzz\n"
       ]
      }
     ],
     "prompt_number": 87
    },
    {
     "cell_type": "code",
     "collapsed": false,
     "input": [
      "methods(fizzbuzz)"
     ],
     "language": "python",
     "metadata": {},
     "outputs": [
      {
       "html": [
        "4 methods for generic function <b>fizzbuzz</b>:<ul><li> fizzbuzz(k::<b>Int64</b>,::<b>FizzBuzz{0,0}</b>) at In[84]:3<li> fizzbuzz(k::<b>Int64</b>,::<b>FizzBuzz{0,n}</b>) at In[84]:2<li> fizzbuzz<i>{m}</i>(k::<b>Int64</b>,::<b>FizzBuzz{m,0}</b>) at In[84]:4<li> fizzbuzz(k::<b>Int64</b>,::<b>FizzBuzz{m,n}</b>) at In[84]:1</ul>"
       ],
       "metadata": {},
       "output_type": "pyout",
       "prompt_number": 88,
       "text": [
        "# 4 methods for generic function \"fizzbuzz\":\n",
        "fizzbuzz(k::Int64,::FizzBuzz{0,0}) at In[84]:3\n",
        "fizzbuzz(k::Int64,::FizzBuzz{0,n}) at In[84]:2\n",
        "fizzbuzz{m}(k::Int64,::FizzBuzz{m,0}) at In[84]:4\n",
        "fizzbuzz(k::Int64,::FizzBuzz{m,n}) at In[84]:1"
       ]
      }
     ],
     "prompt_number": 88
    },
    {
     "cell_type": "code",
     "collapsed": false,
     "input": [
      "methods(+)"
     ],
     "language": "python",
     "metadata": {},
     "outputs": [
      {
       "html": [
        "116 methods for generic function <b>+</b>:<ul><li> +(x::<b>Bool</b>) at <a href=\"https://github.com/JuliaLang/julia/tree/a1b21bfa0bb9d25771a669228f1ff75c57d5107a/base/bool.jl#L36\" target=\"_blank\">bool.jl:36</a><li> +(x::<b>Bool</b>,y::<b>Bool</b>) at <a href=\"https://github.com/JuliaLang/julia/tree/a1b21bfa0bb9d25771a669228f1ff75c57d5107a/base/bool.jl#L39\" target=\"_blank\">bool.jl:39</a><li> +(x::<b>Union(SubArray{Bool,N,A<:DenseArray{T,N},I<:(Union(Range{Int64},Int64,Range1{Int64})...,)},DenseArray{Bool,N})</b>,y::<b>Union(SubArray{Bool,N,A<:DenseArray{T,N},I<:(Union(Range{Int64},Int64,Range1{Int64})...,)},DenseArray{Bool,N})</b>) at <a href=\"https://github.com/JuliaLang/julia/tree/a1b21bfa0bb9d25771a669228f1ff75c57d5107a/base/array.jl#L964\" target=\"_blank\">array.jl:964</a><li> +<i>{S,T}</i>(A::<b>Union(SubArray{S,N,A<:DenseArray{T,N},I<:(Union(Range{Int64},Int64,Range1{Int64})...,)},DenseArray{S,N})</b>,B::<b>Union(SubArray{T,N,A<:DenseArray{T,N},I<:(Union(Range{Int64},Int64,Range1{Int64})...,)},DenseArray{T,N})</b>) at <a href=\"https://github.com/JuliaLang/julia/tree/a1b21bfa0bb9d25771a669228f1ff75c57d5107a/base/array.jl#L908\" target=\"_blank\">array.jl:908</a><li> +<i>{T<:Union(Int8,Int32,Int16)}</i>(x::<b>T<:Union(Int8,Int32,Int16)</b>,y::<b>T<:Union(Int8,Int32,Int16)</b>) at <a href=\"https://github.com/JuliaLang/julia/tree/a1b21bfa0bb9d25771a669228f1ff75c57d5107a/base/int.jl#L16\" target=\"_blank\">int.jl:16</a><li> +<i>{T<:Union(Uint8,Uint32,Uint16)}</i>(x::<b>T<:Union(Uint8,Uint32,Uint16)</b>,y::<b>T<:Union(Uint8,Uint32,Uint16)</b>) at <a href=\"https://github.com/JuliaLang/julia/tree/a1b21bfa0bb9d25771a669228f1ff75c57d5107a/base/int.jl#L20\" target=\"_blank\">int.jl:20</a><li> +(x::<b>Int64</b>,y::<b>Int64</b>) at <a href=\"https://github.com/JuliaLang/julia/tree/a1b21bfa0bb9d25771a669228f1ff75c57d5107a/base/int.jl#L41\" target=\"_blank\">int.jl:41</a><li> +(x::<b>Uint64</b>,y::<b>Uint64</b>) at <a href=\"https://github.com/JuliaLang/julia/tree/a1b21bfa0bb9d25771a669228f1ff75c57d5107a/base/int.jl#L42\" target=\"_blank\">int.jl:42</a><li> +(x::<b>Int128</b>,y::<b>Int128</b>) at <a href=\"https://github.com/JuliaLang/julia/tree/a1b21bfa0bb9d25771a669228f1ff75c57d5107a/base/int.jl#L43\" target=\"_blank\">int.jl:43</a><li> +(x::<b>Uint128</b>,y::<b>Uint128</b>) at <a href=\"https://github.com/JuliaLang/julia/tree/a1b21bfa0bb9d25771a669228f1ff75c57d5107a/base/int.jl#L44\" target=\"_blank\">int.jl:44</a><li> +(x::<b>Float32</b>,y::<b>Float32</b>) at <a href=\"https://github.com/JuliaLang/julia/tree/a1b21bfa0bb9d25771a669228f1ff75c57d5107a/base/float.jl#L124\" target=\"_blank\">float.jl:124</a><li> +(x::<b>Float64</b>,y::<b>Float64</b>) at <a href=\"https://github.com/JuliaLang/julia/tree/a1b21bfa0bb9d25771a669228f1ff75c57d5107a/base/float.jl#L125\" target=\"_blank\">float.jl:125</a><li> +(z::<b>Complex{T<:Real}</b>,w::<b>Complex{T<:Real}</b>) at <a href=\"https://github.com/JuliaLang/julia/tree/a1b21bfa0bb9d25771a669228f1ff75c57d5107a/base/complex.jl#L133\" target=\"_blank\">complex.jl:133</a><li> +(x::<b>Real</b>,z::<b>Complex{T<:Real}</b>) at <a href=\"https://github.com/JuliaLang/julia/tree/a1b21bfa0bb9d25771a669228f1ff75c57d5107a/base/complex.jl#L141\" target=\"_blank\">complex.jl:141</a><li> +(z::<b>Complex{T<:Real}</b>,x::<b>Real</b>) at <a href=\"https://github.com/JuliaLang/julia/tree/a1b21bfa0bb9d25771a669228f1ff75c57d5107a/base/complex.jl#L142\" target=\"_blank\">complex.jl:142</a><li> +(x::<b>Rational{T<:Integer}</b>,y::<b>Rational{T<:Integer}</b>) at <a href=\"https://github.com/JuliaLang/julia/tree/a1b21bfa0bb9d25771a669228f1ff75c57d5107a/base/rational.jl#L113\" target=\"_blank\">rational.jl:113</a><li> +(x::<b>Bool</b>,y::<b>Union(SubArray{Bool,N,A<:DenseArray{T,N},I<:(Union(Range{Int64},Int64,Range1{Int64})...,)},DenseArray{Bool,N})</b>) at <a href=\"https://github.com/JuliaLang/julia/tree/a1b21bfa0bb9d25771a669228f1ff75c57d5107a/base/array.jl#L958\" target=\"_blank\">array.jl:958</a><li> +(x::<b>Union(SubArray{Bool,N,A<:DenseArray{T,N},I<:(Union(Range{Int64},Int64,Range1{Int64})...,)},DenseArray{Bool,N})</b>,y::<b>Bool</b>) at <a href=\"https://github.com/JuliaLang/julia/tree/a1b21bfa0bb9d25771a669228f1ff75c57d5107a/base/array.jl#L961\" target=\"_blank\">array.jl:961</a><li> +(x::<b>Char</b>,y::<b>Char</b>) at <a href=\"https://github.com/JuliaLang/julia/tree/a1b21bfa0bb9d25771a669228f1ff75c57d5107a/base/char.jl#L25\" target=\"_blank\">char.jl:25</a><li> +(x::<b>Char</b>,y::<b>Integer</b>) at <a href=\"https://github.com/JuliaLang/julia/tree/a1b21bfa0bb9d25771a669228f1ff75c57d5107a/base/char.jl#L30\" target=\"_blank\">char.jl:30</a><li> +(x::<b>Integer</b>,y::<b>Char</b>) at <a href=\"https://github.com/JuliaLang/julia/tree/a1b21bfa0bb9d25771a669228f1ff75c57d5107a/base/char.jl#L31\" target=\"_blank\">char.jl:31</a><li> +(a::<b>Float16</b>,b::<b>Float16</b>) at <a href=\"https://github.com/JuliaLang/julia/tree/a1b21bfa0bb9d25771a669228f1ff75c57d5107a/base/float16.jl#L105\" target=\"_blank\">float16.jl:105</a><li> +(x::<b>BigInt</b>,y::<b>BigInt</b>) at <a href=\"https://github.com/JuliaLang/julia/tree/a1b21bfa0bb9d25771a669228f1ff75c57d5107a/base/gmp.jl#L164\" target=\"_blank\">gmp.jl:164</a><li> +(a::<b>BigInt</b>,b::<b>BigInt</b>,c::<b>BigInt</b>) at <a href=\"https://github.com/JuliaLang/julia/tree/a1b21bfa0bb9d25771a669228f1ff75c57d5107a/base/gmp.jl#L187\" target=\"_blank\">gmp.jl:187</a><li> +(a::<b>BigInt</b>,b::<b>BigInt</b>,c::<b>BigInt</b>,d::<b>BigInt</b>) at <a href=\"https://github.com/JuliaLang/julia/tree/a1b21bfa0bb9d25771a669228f1ff75c57d5107a/base/gmp.jl#L193\" target=\"_blank\">gmp.jl:193</a><li> +(a::<b>BigInt</b>,b::<b>BigInt</b>,c::<b>BigInt</b>,d::<b>BigInt</b>,e::<b>BigInt</b>) at <a href=\"https://github.com/JuliaLang/julia/tree/a1b21bfa0bb9d25771a669228f1ff75c57d5107a/base/gmp.jl#L200\" target=\"_blank\">gmp.jl:200</a><li> +(x::<b>BigInt</b>,c::<b>Uint64</b>) at <a href=\"https://github.com/JuliaLang/julia/tree/a1b21bfa0bb9d25771a669228f1ff75c57d5107a/base/gmp.jl#L212\" target=\"_blank\">gmp.jl:212</a><li> +(c::<b>Uint64</b>,x::<b>BigInt</b>) at <a href=\"https://github.com/JuliaLang/julia/tree/a1b21bfa0bb9d25771a669228f1ff75c57d5107a/base/gmp.jl#L216\" target=\"_blank\">gmp.jl:216</a><li> +(c::<b>Unsigned</b>,x::<b>BigInt</b>) at <a href=\"https://github.com/JuliaLang/julia/tree/a1b21bfa0bb9d25771a669228f1ff75c57d5107a/base/gmp.jl#L217\" target=\"_blank\">gmp.jl:217</a><li> +(x::<b>BigInt</b>,c::<b>Unsigned</b>) at <a href=\"https://github.com/JuliaLang/julia/tree/a1b21bfa0bb9d25771a669228f1ff75c57d5107a/base/gmp.jl#L218\" target=\"_blank\">gmp.jl:218</a><li> +(x::<b>BigInt</b>,c::<b>Signed</b>) at <a href=\"https://github.com/JuliaLang/julia/tree/a1b21bfa0bb9d25771a669228f1ff75c57d5107a/base/gmp.jl#L219\" target=\"_blank\">gmp.jl:219</a><li> +(c::<b>Signed</b>,x::<b>BigInt</b>) at <a href=\"https://github.com/JuliaLang/julia/tree/a1b21bfa0bb9d25771a669228f1ff75c57d5107a/base/gmp.jl#L220\" target=\"_blank\">gmp.jl:220</a><li> +(x::<b>BigFloat</b>,c::<b>Uint64</b>) at <a href=\"https://github.com/JuliaLang/julia/tree/a1b21bfa0bb9d25771a669228f1ff75c57d5107a/base/mpfr.jl#L138\" target=\"_blank\">mpfr.jl:138</a><li> +(c::<b>Uint64</b>,x::<b>BigFloat</b>) at <a href=\"https://github.com/JuliaLang/julia/tree/a1b21bfa0bb9d25771a669228f1ff75c57d5107a/base/mpfr.jl#L142\" target=\"_blank\">mpfr.jl:142</a><li> +(c::<b>Unsigned</b>,x::<b>BigFloat</b>) at <a href=\"https://github.com/JuliaLang/julia/tree/a1b21bfa0bb9d25771a669228f1ff75c57d5107a/base/mpfr.jl#L143\" target=\"_blank\">mpfr.jl:143</a><li> +(x::<b>BigFloat</b>,c::<b>Unsigned</b>) at <a href=\"https://github.com/JuliaLang/julia/tree/a1b21bfa0bb9d25771a669228f1ff75c57d5107a/base/mpfr.jl#L144\" target=\"_blank\">mpfr.jl:144</a><li> +(x::<b>BigFloat</b>,c::<b>Int64</b>) at <a href=\"https://github.com/JuliaLang/julia/tree/a1b21bfa0bb9d25771a669228f1ff75c57d5107a/base/mpfr.jl#L148\" target=\"_blank\">mpfr.jl:148</a><li> +(c::<b>Int64</b>,x::<b>BigFloat</b>) at <a href=\"https://github.com/JuliaLang/julia/tree/a1b21bfa0bb9d25771a669228f1ff75c57d5107a/base/mpfr.jl#L152\" target=\"_blank\">mpfr.jl:152</a><li> +(x::<b>BigFloat</b>,c::<b>Signed</b>) at <a href=\"https://github.com/JuliaLang/julia/tree/a1b21bfa0bb9d25771a669228f1ff75c57d5107a/base/mpfr.jl#L153\" target=\"_blank\">mpfr.jl:153</a><li> +(c::<b>Signed</b>,x::<b>BigFloat</b>) at <a href=\"https://github.com/JuliaLang/julia/tree/a1b21bfa0bb9d25771a669228f1ff75c57d5107a/base/mpfr.jl#L154\" target=\"_blank\">mpfr.jl:154</a><li> +(x::<b>BigFloat</b>,c::<b>Float64</b>) at <a href=\"https://github.com/JuliaLang/julia/tree/a1b21bfa0bb9d25771a669228f1ff75c57d5107a/base/mpfr.jl#L158\" target=\"_blank\">mpfr.jl:158</a><li> +(c::<b>Float64</b>,x::<b>BigFloat</b>) at <a href=\"https://github.com/JuliaLang/julia/tree/a1b21bfa0bb9d25771a669228f1ff75c57d5107a/base/mpfr.jl#L162\" target=\"_blank\">mpfr.jl:162</a><li> +(c::<b>Float32</b>,x::<b>BigFloat</b>) at <a href=\"https://github.com/JuliaLang/julia/tree/a1b21bfa0bb9d25771a669228f1ff75c57d5107a/base/mpfr.jl#L163\" target=\"_blank\">mpfr.jl:163</a><li> +(x::<b>BigFloat</b>,c::<b>Float32</b>) at <a href=\"https://github.com/JuliaLang/julia/tree/a1b21bfa0bb9d25771a669228f1ff75c57d5107a/base/mpfr.jl#L164\" target=\"_blank\">mpfr.jl:164</a><li> +(x::<b>BigFloat</b>,c::<b>BigInt</b>) at <a href=\"https://github.com/JuliaLang/julia/tree/a1b21bfa0bb9d25771a669228f1ff75c57d5107a/base/mpfr.jl#L168\" target=\"_blank\">mpfr.jl:168</a><li> +(c::<b>BigInt</b>,x::<b>BigFloat</b>) at <a href=\"https://github.com/JuliaLang/julia/tree/a1b21bfa0bb9d25771a669228f1ff75c57d5107a/base/mpfr.jl#L172\" target=\"_blank\">mpfr.jl:172</a><li> +(x::<b>BigFloat</b>,y::<b>BigFloat</b>) at <a href=\"https://github.com/JuliaLang/julia/tree/a1b21bfa0bb9d25771a669228f1ff75c57d5107a/base/mpfr.jl#L319\" target=\"_blank\">mpfr.jl:319</a><li> +(a::<b>BigFloat</b>,b::<b>BigFloat</b>,c::<b>BigFloat</b>) at <a href=\"https://github.com/JuliaLang/julia/tree/a1b21bfa0bb9d25771a669228f1ff75c57d5107a/base/mpfr.jl#L330\" target=\"_blank\">mpfr.jl:330</a><li> +(a::<b>BigFloat</b>,b::<b>BigFloat</b>,c::<b>BigFloat</b>,d::<b>BigFloat</b>) at <a href=\"https://github.com/JuliaLang/julia/tree/a1b21bfa0bb9d25771a669228f1ff75c57d5107a/base/mpfr.jl#L336\" target=\"_blank\">mpfr.jl:336</a><li> +(a::<b>BigFloat</b>,b::<b>BigFloat</b>,c::<b>BigFloat</b>,d::<b>BigFloat</b>,e::<b>BigFloat</b>) at <a href=\"https://github.com/JuliaLang/julia/tree/a1b21bfa0bb9d25771a669228f1ff75c57d5107a/base/mpfr.jl#L343\" target=\"_blank\">mpfr.jl:343</a><li> +(x::<b>MathConst{sym}</b>,y::<b>MathConst{sym}</b>) at <a href=\"https://github.com/JuliaLang/julia/tree/a1b21bfa0bb9d25771a669228f1ff75c57d5107a/base/constants.jl#L28\" target=\"_blank\">constants.jl:28</a><li> +<i>{T<:Number}</i>(x::<b>T<:Number</b>,y::<b>T<:Number</b>) at <a href=\"https://github.com/JuliaLang/julia/tree/a1b21bfa0bb9d25771a669228f1ff75c57d5107a/base/promotion.jl#L188\" target=\"_blank\">promotion.jl:188</a><li> +(x::<b>Number</b>,y::<b>Number</b>) at <a href=\"https://github.com/JuliaLang/julia/tree/a1b21bfa0bb9d25771a669228f1ff75c57d5107a/base/promotion.jl#L158\" target=\"_blank\">promotion.jl:158</a><li> +(x::<b>Real</b>,r::<b>Range{T<:Real}</b>) at <a href=\"https://github.com/JuliaLang/julia/tree/a1b21bfa0bb9d25771a669228f1ff75c57d5107a/base/range.jl#L285\" target=\"_blank\">range.jl:285</a><li> +(x::<b>Real</b>,r::<b>Range1{T<:Real}</b>) at <a href=\"https://github.com/JuliaLang/julia/tree/a1b21bfa0bb9d25771a669228f1ff75c57d5107a/base/range.jl#L286\" target=\"_blank\">range.jl:286</a><li> +(r::<b>Ranges{T}</b>,x::<b>Real</b>) at <a href=\"https://github.com/JuliaLang/julia/tree/a1b21bfa0bb9d25771a669228f1ff75c57d5107a/base/range.jl#L287\" target=\"_blank\">range.jl:287</a><li> +(r1::<b>Ranges{T}</b>,r2::<b>Ranges{T}</b>) at <a href=\"https://github.com/JuliaLang/julia/tree/a1b21bfa0bb9d25771a669228f1ff75c57d5107a/base/range.jl#L299\" target=\"_blank\">range.jl:299</a><li> +() at <a href=\"https://github.com/JuliaLang/julia/tree/a1b21bfa0bb9d25771a669228f1ff75c57d5107a/base/operators.jl#L53\" target=\"_blank\">operators.jl:53</a><li> +(x::<b>Integer</b>,y::<b>Ptr{T}</b>) at <a href=\"https://github.com/JuliaLang/julia/tree/a1b21bfa0bb9d25771a669228f1ff75c57d5107a/base/pointer.jl#L61\" target=\"_blank\">pointer.jl:61</a><li> +(x::<b>Bool</b>,B::<b>BitArray{N}</b>) at <a href=\"https://github.com/JuliaLang/julia/tree/a1b21bfa0bb9d25771a669228f1ff75c57d5107a/base/bitarray.jl#L1226\" target=\"_blank\">bitarray.jl:1226</a><li> +(x::<b>Number</b>) at <a href=\"https://github.com/JuliaLang/julia/tree/a1b21bfa0bb9d25771a669228f1ff75c57d5107a/base/operators.jl#L59\" target=\"_blank\">operators.jl:59</a><li> +(x::<b>Ptr{T}</b>,y::<b>Integer</b>) at <a href=\"https://github.com/JuliaLang/julia/tree/a1b21bfa0bb9d25771a669228f1ff75c57d5107a/base/pointer.jl#L59\" target=\"_blank\">pointer.jl:59</a><li> +(A::<b>BitArray{N}</b>,B::<b>BitArray{N}</b>) at <a href=\"https://github.com/JuliaLang/julia/tree/a1b21bfa0bb9d25771a669228f1ff75c57d5107a/base/bitarray.jl#L1215\" target=\"_blank\">bitarray.jl:1215</a><li> +(B::<b>BitArray{N}</b>,x::<b>Bool</b>) at <a href=\"https://github.com/JuliaLang/julia/tree/a1b21bfa0bb9d25771a669228f1ff75c57d5107a/base/bitarray.jl#L1219\" target=\"_blank\">bitarray.jl:1219</a><li> +(B::<b>BitArray{N}</b>,x::<b>Number</b>) at <a href=\"https://github.com/JuliaLang/julia/tree/a1b21bfa0bb9d25771a669228f1ff75c57d5107a/base/bitarray.jl#L1222\" target=\"_blank\">bitarray.jl:1222</a><li> +(A::<b>BitArray{N}</b>,B::<b>AbstractArray{T,N}</b>) at <a href=\"https://github.com/JuliaLang/julia/tree/a1b21bfa0bb9d25771a669228f1ff75c57d5107a/base/bitarray.jl#L1467\" target=\"_blank\">bitarray.jl:1467</a><li> +(A::<b>SparseMatrixCSC{Tv,Ti<:Integer}</b>,B::<b>Union(Number,Array{T,N})</b>) at <a href=\"https://github.com/JuliaLang/julia/tree/a1b21bfa0bb9d25771a669228f1ff75c57d5107a/base/sparse/sparsematrix.jl#L550\" target=\"_blank\">sparse/sparsematrix.jl:550</a><li> +(A::<b>Union(Number,Array{T,N})</b>,B::<b>SparseMatrixCSC{Tv,Ti<:Integer}</b>) at <a href=\"https://github.com/JuliaLang/julia/tree/a1b21bfa0bb9d25771a669228f1ff75c57d5107a/base/sparse/sparsematrix.jl#L551\" target=\"_blank\">sparse/sparsematrix.jl:551</a><li> +(A::<b>SymTridiagonal{T}</b>,B::<b>SymTridiagonal{T}</b>) at <a href=\"https://github.com/JuliaLang/julia/tree/a1b21bfa0bb9d25771a669228f1ff75c57d5107a/base/linalg/tridiag.jl#L59\" target=\"_blank\">linalg/tridiag.jl:59</a><li> +(A::<b>Tridiagonal{T}</b>,B::<b>Tridiagonal{T}</b>) at <a href=\"https://github.com/JuliaLang/julia/tree/a1b21bfa0bb9d25771a669228f1ff75c57d5107a/base/linalg/tridiag.jl#L239\" target=\"_blank\">linalg/tridiag.jl:239</a><li> +(A::<b>Tridiagonal{T}</b>,B::<b>SymTridiagonal{T}</b>) at <a href=\"https://github.com/JuliaLang/julia/tree/a1b21bfa0bb9d25771a669228f1ff75c57d5107a/base/linalg/tridiag.jl#L254\" target=\"_blank\">linalg/tridiag.jl:254</a><li> +(A::<b>SymTridiagonal{T}</b>,B::<b>Tridiagonal{T}</b>) at <a href=\"https://github.com/JuliaLang/julia/tree/a1b21bfa0bb9d25771a669228f1ff75c57d5107a/base/linalg/tridiag.jl#L255\" target=\"_blank\">linalg/tridiag.jl:255</a><li> +(Da::<b>Diagonal{T}</b>,Db::<b>Diagonal{T}</b>) at <a href=\"https://github.com/JuliaLang/julia/tree/a1b21bfa0bb9d25771a669228f1ff75c57d5107a/base/linalg/diagonal.jl#L20\" target=\"_blank\">linalg/diagonal.jl:20</a><li> +(A::<b>Bidiagonal{T}</b>,B::<b>Bidiagonal{T}</b>) at <a href=\"https://github.com/JuliaLang/julia/tree/a1b21bfa0bb9d25771a669228f1ff75c57d5107a/base/linalg/bidiag.jl#L86\" target=\"_blank\">linalg/bidiag.jl:86</a><li> +(A::<b>Diagonal{T}</b>,B::<b>Bidiagonal{T}</b>) at <a href=\"https://github.com/JuliaLang/julia/tree/a1b21bfa0bb9d25771a669228f1ff75c57d5107a/base/linalg/special.jl#L90\" target=\"_blank\">linalg/special.jl:90</a><li> +(A::<b>Bidiagonal{T}</b>,B::<b>Diagonal{T}</b>) at <a href=\"https://github.com/JuliaLang/julia/tree/a1b21bfa0bb9d25771a669228f1ff75c57d5107a/base/linalg/special.jl#L91\" target=\"_blank\">linalg/special.jl:91</a><li> +(A::<b>Diagonal{T}</b>,B::<b>Tridiagonal{T}</b>) at <a href=\"https://github.com/JuliaLang/julia/tree/a1b21bfa0bb9d25771a669228f1ff75c57d5107a/base/linalg/special.jl#L90\" target=\"_blank\">linalg/special.jl:90</a><li> +(A::<b>Tridiagonal{T}</b>,B::<b>Diagonal{T}</b>) at <a href=\"https://github.com/JuliaLang/julia/tree/a1b21bfa0bb9d25771a669228f1ff75c57d5107a/base/linalg/special.jl#L91\" target=\"_blank\">linalg/special.jl:91</a><li> +(A::<b>Diagonal{T}</b>,B::<b>Triangular{T<:Number}</b>) at <a href=\"https://github.com/JuliaLang/julia/tree/a1b21bfa0bb9d25771a669228f1ff75c57d5107a/base/linalg/special.jl#L90\" target=\"_blank\">linalg/special.jl:90</a><li> +(A::<b>Triangular{T<:Number}</b>,B::<b>Diagonal{T}</b>) at <a href=\"https://github.com/JuliaLang/julia/tree/a1b21bfa0bb9d25771a669228f1ff75c57d5107a/base/linalg/special.jl#L91\" target=\"_blank\">linalg/special.jl:91</a><li> +(A::<b>Diagonal{T}</b>,B::<b>Array{T,2}</b>) at <a href=\"https://github.com/JuliaLang/julia/tree/a1b21bfa0bb9d25771a669228f1ff75c57d5107a/base/linalg/special.jl#L90\" target=\"_blank\">linalg/special.jl:90</a><li> +(A::<b>Array{T,2}</b>,B::<b>Diagonal{T}</b>) at <a href=\"https://github.com/JuliaLang/julia/tree/a1b21bfa0bb9d25771a669228f1ff75c57d5107a/base/linalg/special.jl#L91\" target=\"_blank\">linalg/special.jl:91</a><li> +(A::<b>Bidiagonal{T}</b>,B::<b>Tridiagonal{T}</b>) at <a href=\"https://github.com/JuliaLang/julia/tree/a1b21bfa0bb9d25771a669228f1ff75c57d5107a/base/linalg/special.jl#L90\" target=\"_blank\">linalg/special.jl:90</a><li> +(A::<b>Tridiagonal{T}</b>,B::<b>Bidiagonal{T}</b>) at <a href=\"https://github.com/JuliaLang/julia/tree/a1b21bfa0bb9d25771a669228f1ff75c57d5107a/base/linalg/special.jl#L91\" target=\"_blank\">linalg/special.jl:91</a><li> +(A::<b>Bidiagonal{T}</b>,B::<b>Triangular{T<:Number}</b>) at <a href=\"https://github.com/JuliaLang/julia/tree/a1b21bfa0bb9d25771a669228f1ff75c57d5107a/base/linalg/special.jl#L90\" target=\"_blank\">linalg/special.jl:90</a><li> +(A::<b>Triangular{T<:Number}</b>,B::<b>Bidiagonal{T}</b>) at <a href=\"https://github.com/JuliaLang/julia/tree/a1b21bfa0bb9d25771a669228f1ff75c57d5107a/base/linalg/special.jl#L91\" target=\"_blank\">linalg/special.jl:91</a><li> +(A::<b>Bidiagonal{T}</b>,B::<b>Array{T,2}</b>) at <a href=\"https://github.com/JuliaLang/julia/tree/a1b21bfa0bb9d25771a669228f1ff75c57d5107a/base/linalg/special.jl#L90\" target=\"_blank\">linalg/special.jl:90</a><li> +(A::<b>Array{T,2}</b>,B::<b>Bidiagonal{T}</b>) at <a href=\"https://github.com/JuliaLang/julia/tree/a1b21bfa0bb9d25771a669228f1ff75c57d5107a/base/linalg/special.jl#L91\" target=\"_blank\">linalg/special.jl:91</a><li> +(A::<b>Tridiagonal{T}</b>,B::<b>Triangular{T<:Number}</b>) at <a href=\"https://github.com/JuliaLang/julia/tree/a1b21bfa0bb9d25771a669228f1ff75c57d5107a/base/linalg/special.jl#L90\" target=\"_blank\">linalg/special.jl:90</a><li> +(A::<b>Triangular{T<:Number}</b>,B::<b>Tridiagonal{T}</b>) at <a href=\"https://github.com/JuliaLang/julia/tree/a1b21bfa0bb9d25771a669228f1ff75c57d5107a/base/linalg/special.jl#L91\" target=\"_blank\">linalg/special.jl:91</a><li> +(A::<b>Tridiagonal{T}</b>,B::<b>Array{T,2}</b>) at <a href=\"https://github.com/JuliaLang/julia/tree/a1b21bfa0bb9d25771a669228f1ff75c57d5107a/base/linalg/special.jl#L90\" target=\"_blank\">linalg/special.jl:90</a><li> +(A::<b>Array{T,2}</b>,B::<b>Tridiagonal{T}</b>) at <a href=\"https://github.com/JuliaLang/julia/tree/a1b21bfa0bb9d25771a669228f1ff75c57d5107a/base/linalg/special.jl#L91\" target=\"_blank\">linalg/special.jl:91</a><li> +(A::<b>Triangular{T<:Number}</b>,B::<b>Array{T,2}</b>) at <a href=\"https://github.com/JuliaLang/julia/tree/a1b21bfa0bb9d25771a669228f1ff75c57d5107a/base/linalg/special.jl#L90\" target=\"_blank\">linalg/special.jl:90</a><li> +(A::<b>Array{T,2}</b>,B::<b>Triangular{T<:Number}</b>) at <a href=\"https://github.com/JuliaLang/julia/tree/a1b21bfa0bb9d25771a669228f1ff75c57d5107a/base/linalg/special.jl#L91\" target=\"_blank\">linalg/special.jl:91</a><li> +(A::<b>SymTridiagonal{T}</b>,B::<b>Triangular{T<:Number}</b>) at <a href=\"https://github.com/JuliaLang/julia/tree/a1b21bfa0bb9d25771a669228f1ff75c57d5107a/base/linalg/special.jl#L101\" target=\"_blank\">linalg/special.jl:101</a><li> +(A::<b>Triangular{T<:Number}</b>,B::<b>SymTridiagonal{T}</b>) at <a href=\"https://github.com/JuliaLang/julia/tree/a1b21bfa0bb9d25771a669228f1ff75c57d5107a/base/linalg/special.jl#L102\" target=\"_blank\">linalg/special.jl:102</a><li> +(A::<b>SymTridiagonal{T}</b>,B::<b>Array{T,2}</b>) at <a href=\"https://github.com/JuliaLang/julia/tree/a1b21bfa0bb9d25771a669228f1ff75c57d5107a/base/linalg/special.jl#L101\" target=\"_blank\">linalg/special.jl:101</a><li> +(A::<b>Array{T,2}</b>,B::<b>SymTridiagonal{T}</b>) at <a href=\"https://github.com/JuliaLang/julia/tree/a1b21bfa0bb9d25771a669228f1ff75c57d5107a/base/linalg/special.jl#L102\" target=\"_blank\">linalg/special.jl:102</a><li> +<i>{T<:Number}</i>(x::<b>AbstractArray{T<:Number,N}</b>) at <a href=\"https://github.com/JuliaLang/julia/tree/a1b21bfa0bb9d25771a669228f1ff75c57d5107a/base/abstractarray.jl#L326\" target=\"_blank\">abstractarray.jl:326</a><li> +<i>{T}</i>(A::<b>Number</b>,B::<b>Union(SubArray{T,N,A<:DenseArray{T,N},I<:(Union(Range{Int64},Int64,Range1{Int64})...,)},DenseArray{T,N})</b>) at <a href=\"https://github.com/JuliaLang/julia/tree/a1b21bfa0bb9d25771a669228f1ff75c57d5107a/base/array.jl#L919\" target=\"_blank\">array.jl:919</a><li> +<i>{T}</i>(A::<b>Union(SubArray{T,N,A<:DenseArray{T,N},I<:(Union(Range{Int64},Int64,Range1{Int64})...,)},DenseArray{T,N})</b>,B::<b>Number</b>) at <a href=\"https://github.com/JuliaLang/julia/tree/a1b21bfa0bb9d25771a669228f1ff75c57d5107a/base/array.jl#L926\" target=\"_blank\">array.jl:926</a><li> +<i>{S,T<:Real}</i>(A::<b>Union(SubArray{S,N,A<:DenseArray{T,N},I<:(Union(Range{Int64},Int64,Range1{Int64})...,)},DenseArray{S,N})</b>,B::<b>Ranges{T<:Real}</b>) at <a href=\"https://github.com/JuliaLang/julia/tree/a1b21bfa0bb9d25771a669228f1ff75c57d5107a/base/array.jl#L934\" target=\"_blank\">array.jl:934</a><li> +<i>{S<:Real,T}</i>(A::<b>Ranges{S<:Real}</b>,B::<b>Union(SubArray{T,N,A<:DenseArray{T,N},I<:(Union(Range{Int64},Int64,Range1{Int64})...,)},DenseArray{T,N})</b>) at <a href=\"https://github.com/JuliaLang/julia/tree/a1b21bfa0bb9d25771a669228f1ff75c57d5107a/base/array.jl#L943\" target=\"_blank\">array.jl:943</a><li> +(x::<b>Number</b>,B::<b>BitArray{N}</b>) at <a href=\"https://github.com/JuliaLang/julia/tree/a1b21bfa0bb9d25771a669228f1ff75c57d5107a/base/bitarray.jl#L1229\" target=\"_blank\">bitarray.jl:1229</a><li> +(A::<b>AbstractArray{T,N}</b>,B::<b>BitArray{N}</b>) at <a href=\"https://github.com/JuliaLang/julia/tree/a1b21bfa0bb9d25771a669228f1ff75c57d5107a/base/bitarray.jl#L1468\" target=\"_blank\">bitarray.jl:1468</a><li> +<i>{Tv,Ti}</i>(A::<b>SparseMatrixCSC{Tv,Ti}</b>,B::<b>SparseMatrixCSC{Tv,Ti}</b>) at <a href=\"https://github.com/JuliaLang/julia/tree/a1b21bfa0bb9d25771a669228f1ff75c57d5107a/base/sparse/sparsematrix.jl#L456\" target=\"_blank\">sparse/sparsematrix.jl:456</a><li> +<i>{TvA,TiA,TvB,TiB}</i>(A::<b>SparseMatrixCSC{TvA,TiA}</b>,B::<b>SparseMatrixCSC{TvB,TiB}</b>) at <a href=\"https://github.com/JuliaLang/julia/tree/a1b21bfa0bb9d25771a669228f1ff75c57d5107a/base/sparse/sparsematrix.jl#L448\" target=\"_blank\">sparse/sparsematrix.jl:448</a><li> +<i>{T}</i>(a::<b>HierarchicalValue{T}</b>,b::<b>HierarchicalValue{T}</b>) at <a href=\"https://github.com/JuliaLang/julia/tree/a1b21bfa0bb9d25771a669228f1ff75c57d5107a/base/pkg/resolve/versionweight.jl#L19\" target=\"_blank\">pkg/resolve/versionweight.jl:19</a><li> +(a::<b>VWPreBuildItem</b>,b::<b>VWPreBuildItem</b>) at <a href=\"https://github.com/JuliaLang/julia/tree/a1b21bfa0bb9d25771a669228f1ff75c57d5107a/base/pkg/resolve/versionweight.jl#L82\" target=\"_blank\">pkg/resolve/versionweight.jl:82</a><li> +(a::<b>VWPreBuild</b>,b::<b>VWPreBuild</b>) at <a href=\"https://github.com/JuliaLang/julia/tree/a1b21bfa0bb9d25771a669228f1ff75c57d5107a/base/pkg/resolve/versionweight.jl#L120\" target=\"_blank\">pkg/resolve/versionweight.jl:120</a><li> +(a::<b>VersionWeight</b>,b::<b>VersionWeight</b>) at <a href=\"https://github.com/JuliaLang/julia/tree/a1b21bfa0bb9d25771a669228f1ff75c57d5107a/base/pkg/resolve/versionweight.jl#L164\" target=\"_blank\">pkg/resolve/versionweight.jl:164</a><li> +(a::<b>FieldValue</b>,b::<b>FieldValue</b>) at <a href=\"https://github.com/JuliaLang/julia/tree/a1b21bfa0bb9d25771a669228f1ff75c57d5107a/base/pkg/resolve/fieldvalue.jl#L41\" target=\"_blank\">pkg/resolve/fieldvalue.jl:41</a><li> +(a::<b>Vec2</b>,b::<b>Vec2</b>) at <a href=\"https://github.com/JuliaLang/julia/tree/a1b21bfa0bb9d25771a669228f1ff75c57d5107a/base/graphics.jl#L60\" target=\"_blank\">graphics.jl:60</a><li> +(bb1::<b>BoundingBox</b>,bb2::<b>BoundingBox</b>) at <a href=\"https://github.com/JuliaLang/julia/tree/a1b21bfa0bb9d25771a669228f1ff75c57d5107a/base/graphics.jl#L123\" target=\"_blank\">graphics.jl:123</a><li> +(a,b,c) at <a href=\"https://github.com/JuliaLang/julia/tree/a1b21bfa0bb9d25771a669228f1ff75c57d5107a/base/operators.jl#L70\" target=\"_blank\">operators.jl:70</a><li> +(a,b,c,xs...) at <a href=\"https://github.com/JuliaLang/julia/tree/a1b21bfa0bb9d25771a669228f1ff75c57d5107a/base/operators.jl#L71\" target=\"_blank\">operators.jl:71</a></ul>"
       ],
       "metadata": {},
       "output_type": "pyout",
       "prompt_number": 89,
       "text": [
        "# 116 methods for generic function \"+\":\n",
        "+(x::Bool) at bool.jl:36\n",
        "+(x::Bool,y::Bool) at bool.jl:39\n",
        "+(x::Union(SubArray{Bool,N,A<:DenseArray{T,N},I<:(Union(Range{Int64},Int64,Range1{Int64})...,)},DenseArray{Bool,N}),y::Union(SubArray{Bool,N,A<:DenseArray{T,N},I<:(Union(Range{Int64},Int64,Range1{Int64})...,)},DenseArray{Bool,N})) at array.jl:964\n",
        "+{S,T}(A::Union(SubArray{S,N,A<:DenseArray{T,N},I<:(Union(Range{Int64},Int64,Range1{Int64})...,)},DenseArray{S,N}),B::Union(SubArray{T,N,A<:DenseArray{T,N},I<:(Union(Range{Int64},Int64,Range1{Int64})...,)},DenseArray{T,N})) at array.jl:908\n",
        "+{T<:Union(Int8,Int32,Int16)}(x::T<:Union(Int8,Int32,Int16),y::T<:Union(Int8,Int32,Int16)) at int.jl:16\n",
        "+{T<:Union(Uint8,Uint32,Uint16)}(x::T<:Union(Uint8,Uint32,Uint16),y::T<:Union(Uint8,Uint32,Uint16)) at int.jl:20\n",
        "+(x::Int64,y::Int64) at int.jl:41\n",
        "+(x::Uint64,y::Uint64) at int.jl:42\n",
        "+(x::Int128,y::Int128) at int.jl:43\n",
        "+(x::Uint128,y::Uint128) at int.jl:44\n",
        "+(x::Float32,y::Float32) at float.jl:124\n",
        "+(x::Float64,y::Float64) at float.jl:125\n",
        "+(z::Complex{T<:Real},w::Complex{T<:Real}) at complex.jl:133\n",
        "+(x::Real,z::Complex{T<:Real}) at complex.jl:141\n",
        "+(z::Complex{T<:Real},x::Real) at complex.jl:142\n",
        "+(x::Rational{T<:Integer},y::Rational{T<:Integer}) at rational.jl:113\n",
        "+(x::Bool,y::Union(SubArray{Bool,N,A<:DenseArray{T,N},I<:(Union(Range{Int64},Int64,Range1{Int64})...,)},DenseArray{Bool,N})) at array.jl:958\n",
        "+(x::Union(SubArray{Bool,N,A<:DenseArray{T,N},I<:(Union(Range{Int64},Int64,Range1{Int64})...,)},DenseArray{Bool,N}),y::Bool) at array.jl:961\n",
        "+(x::Char,y::Char) at char.jl:25\n",
        "+(x::Char,y::Integer) at char.jl:30\n",
        "+(x::Integer,y::Char) at char.jl:31\n",
        "+(a::Float16,b::Float16) at float16.jl:105\n",
        "+(x::BigInt,y::BigInt) at gmp.jl:164\n",
        "+(a::BigInt,b::BigInt,c::BigInt) at gmp.jl:187\n",
        "+(a::BigInt,b::BigInt,c::BigInt,d::BigInt) at gmp.jl:193\n",
        "+(a::BigInt,b::BigInt,c::BigInt,d::BigInt,e::BigInt) at gmp.jl:200\n",
        "+(x::BigInt,c::Uint64) at gmp.jl:212\n",
        "+(c::Uint64,x::BigInt) at gmp.jl:216\n",
        "+(c::Unsigned,x::BigInt) at gmp.jl:217\n",
        "+(x::BigInt,c::Unsigned) at gmp.jl:218\n",
        "+(x::BigInt,c::Signed) at gmp.jl:219\n",
        "+(c::Signed,x::BigInt) at gmp.jl:220\n",
        "+(x::BigFloat,c::Uint64) at mpfr.jl:138\n",
        "+(c::Uint64,x::BigFloat) at mpfr.jl:142\n",
        "+(c::Unsigned,x::BigFloat) at mpfr.jl:143\n",
        "+(x::BigFloat,c::Unsigned) at mpfr.jl:144\n",
        "+(x::BigFloat,c::Int64) at mpfr.jl:148\n",
        "+(c::Int64,x::BigFloat) at mpfr.jl:152\n",
        "+(x::BigFloat,c::Signed) at mpfr.jl:153\n",
        "+(c::Signed,x::BigFloat) at mpfr.jl:154\n",
        "+(x::BigFloat,c::Float64) at mpfr.jl:158\n",
        "+(c::Float64,x::BigFloat) at mpfr.jl:162\n",
        "+(c::Float32,x::BigFloat) at mpfr.jl:163\n",
        "+(x::BigFloat,c::Float32) at mpfr.jl:164\n",
        "+(x::BigFloat,c::BigInt) at mpfr.jl:168\n",
        "+(c::BigInt,x::BigFloat) at mpfr.jl:172\n",
        "+(x::BigFloat,y::BigFloat) at mpfr.jl:319\n",
        "+(a::BigFloat,b::BigFloat,c::BigFloat) at mpfr.jl:330\n",
        "+(a::BigFloat,b::BigFloat,c::BigFloat,d::BigFloat) at mpfr.jl:336\n",
        "+(a::BigFloat,b::BigFloat,c::BigFloat,d::BigFloat,e::BigFloat) at mpfr.jl:343\n",
        "+(x::MathConst{sym},y::MathConst{sym}) at constants.jl:28\n",
        "+{T<:Number}(x::T<:Number,y::T<:Number) at promotion.jl:188\n",
        "+(x::Number,y::Number) at promotion.jl:158\n",
        "+(x::Real,r::Range{T<:Real}) at range.jl:285\n",
        "+(x::Real,r::Range1{T<:Real}) at range.jl:286\n",
        "+(r::Ranges{T},x::Real) at range.jl:287\n",
        "+(r1::Ranges{T},r2::Ranges{T}) at range.jl:299\n",
        "+() at operators.jl:53\n",
        "+(x::Integer,y::Ptr{T}) at pointer.jl:61\n",
        "+(x::Bool,B::BitArray{N}) at bitarray.jl:1226\n",
        "+(x::Number) at operators.jl:59\n",
        "+(x::Ptr{T},y::Integer) at pointer.jl:59\n",
        "+(A::BitArray{N},B::BitArray{N}) at bitarray.jl:1215\n",
        "+(B::BitArray{N},x::Bool) at bitarray.jl:1219\n",
        "+(B::BitArray{N},x::Number) at bitarray.jl:1222\n",
        "+(A::BitArray{N},B::AbstractArray{T,N}) at bitarray.jl:1467\n",
        "+(A::SparseMatrixCSC{Tv,Ti<:Integer},B::Union(Number,Array{T,N})) at sparse/sparsematrix.jl:550\n",
        "+(A::Union(Number,Array{T,N}),B::SparseMatrixCSC{Tv,Ti<:Integer}) at sparse/sparsematrix.jl:551\n",
        "+(A::SymTridiagonal{T},B::SymTridiagonal{T}) at linalg/tridiag.jl:59\n",
        "+(A::Tridiagonal{T},B::Tridiagonal{T}) at linalg/tridiag.jl:239\n",
        "+(A::Tridiagonal{T},B::SymTridiagonal{T}) at linalg/tridiag.jl:254\n",
        "+(A::SymTridiagonal{T},B::Tridiagonal{T}) at linalg/tridiag.jl:255\n",
        "+(Da::Diagonal{T},Db::Diagonal{T}) at linalg/diagonal.jl:20\n",
        "+(A::Bidiagonal{T},B::Bidiagonal{T}) at linalg/bidiag.jl:86\n",
        "+(A::Diagonal{T},B::Bidiagonal{T}) at linalg/special.jl:90\n",
        "+(A::Bidiagonal{T},B::Diagonal{T}) at linalg/special.jl:91\n",
        "+(A::Diagonal{T},B::Tridiagonal{T}) at linalg/special.jl:90\n",
        "+(A::Tridiagonal{T},B::Diagonal{T}) at linalg/special.jl:91\n",
        "+(A::Diagonal{T},B::Triangular{T<:Number}) at linalg/special.jl:90\n",
        "+(A::Triangular{T<:Number},B::Diagonal{T}) at linalg/special.jl:91\n",
        "+(A::Diagonal{T},B::Array{T,2}) at linalg/special.jl:90\n",
        "+(A::Array{T,2},B::Diagonal{T}) at linalg/special.jl:91\n",
        "+(A::Bidiagonal{T},B::Tridiagonal{T}) at linalg/special.jl:90\n",
        "+(A::Tridiagonal{T},B::Bidiagonal{T}) at linalg/special.jl:91\n",
        "+(A::Bidiagonal{T},B::Triangular{T<:Number}) at linalg/special.jl:90\n",
        "+(A::Triangular{T<:Number},B::Bidiagonal{T}) at linalg/special.jl:91\n",
        "+(A::Bidiagonal{T},B::Array{T,2}) at linalg/special.jl:90\n",
        "+(A::Array{T,2},B::Bidiagonal{T}) at linalg/special.jl:91\n",
        "+(A::Tridiagonal{T},B::Triangular{T<:Number}) at linalg/special.jl:90\n",
        "+(A::Triangular{T<:Number},B::Tridiagonal{T}) at linalg/special.jl:91\n",
        "+(A::Tridiagonal{T},B::Array{T,2}) at linalg/special.jl:90\n",
        "+(A::Array{T,2},B::Tridiagonal{T}) at linalg/special.jl:91\n",
        "+(A::Triangular{T<:Number},B::Array{T,2}) at linalg/special.jl:90\n",
        "+(A::Array{T,2},B::Triangular{T<:Number}) at linalg/special.jl:91\n",
        "+(A::SymTridiagonal{T},B::Triangular{T<:Number}) at linalg/special.jl:101\n",
        "+(A::Triangular{T<:Number},B::SymTridiagonal{T}) at linalg/special.jl:102\n",
        "+(A::SymTridiagonal{T},B::Array{T,2}) at linalg/special.jl:101\n",
        "+(A::Array{T,2},B::SymTridiagonal{T}) at linalg/special.jl:102\n",
        "+{T<:Number}(x::AbstractArray{T<:Number,N}) at abstractarray.jl:326\n",
        "+{T}(A::Number,B::Union(SubArray{T,N,A<:DenseArray{T,N},I<:(Union(Range{Int64},Int64,Range1{Int64})...,)},DenseArray{T,N})) at array.jl:919\n",
        "+{T}(A::Union(SubArray{T,N,A<:DenseArray{T,N},I<:(Union(Range{Int64},Int64,Range1{Int64})...,)},DenseArray{T,N}),B::Number) at array.jl:926\n",
        "+{S,T<:Real}(A::Union(SubArray{S,N,A<:DenseArray{T,N},I<:(Union(Range{Int64},Int64,Range1{Int64})...,)},DenseArray{S,N}),B::Ranges{T<:Real}) at array.jl:934\n",
        "+{S<:Real,T}(A::Ranges{S<:Real},B::Union(SubArray{T,N,A<:DenseArray{T,N},I<:(Union(Range{Int64},Int64,Range1{Int64})...,)},DenseArray{T,N})) at array.jl:943\n",
        "+(x::Number,B::BitArray{N}) at bitarray.jl:1229\n",
        "+(A::AbstractArray{T,N},B::BitArray{N}) at bitarray.jl:1468\n",
        "+{Tv,Ti}(A::SparseMatrixCSC{Tv,Ti},B::SparseMatrixCSC{Tv,Ti}) at sparse/sparsematrix.jl:456\n",
        "+{TvA,TiA,TvB,TiB}(A::SparseMatrixCSC{TvA,TiA},B::SparseMatrixCSC{TvB,TiB}) at sparse/sparsematrix.jl:448\n",
        "+{T}(a::HierarchicalValue{T},b::HierarchicalValue{T}) at pkg/resolve/versionweight.jl:19\n",
        "+(a::VWPreBuildItem,b::VWPreBuildItem) at pkg/resolve/versionweight.jl:82\n",
        "+(a::VWPreBuild,b::VWPreBuild) at pkg/resolve/versionweight.jl:120\n",
        "+(a::VersionWeight,b::VersionWeight) at pkg/resolve/versionweight.jl:164\n",
        "+(a::FieldValue,b::FieldValue) at pkg/resolve/fieldvalue.jl:41\n",
        "+(a::Vec2,b::Vec2) at graphics.jl:60\n",
        "+(bb1::BoundingBox,bb2::BoundingBox) at graphics.jl:123\n",
        "+(a,b,c) at operators.jl:70\n",
        "+(a,b,c,xs...) at operators.jl:71"
       ]
      }
     ],
     "prompt_number": 89
    },
    {
     "cell_type": "code",
     "collapsed": false,
     "input": [
      "code_llvm(+,(Complex{Float64},Complex{Float64}))"
     ],
     "language": "python",
     "metadata": {},
     "outputs": [
      {
       "output_type": "stream",
       "stream": "stdout",
       "text": [
        "\n",
        "define internal %Complex @\"julia_+2637\"(%Complex, %Complex) {\n",
        "top:\n",
        "  %2 = extractvalue %Complex %0, 0, !dbg !2502\n",
        "  %3 = extractvalue %Complex %1, 0, !dbg !2502\n",
        "  %4 = fadd double %2, %3, !dbg !2502\n",
        "  %5 = insertvalue %Complex undef, double %4, 0, !dbg !2502\n",
        "  %6 = extractvalue %Complex %0, 1, !dbg !2502\n",
        "  %7 = extractvalue %Complex %1, 1, !dbg !2502\n",
        "  %8 = fadd double %6, %7, !dbg !2502\n",
        "  %9 = insertvalue %Complex %5, double %8, 1, !dbg !2502, !julia_type !2503\n",
        "  ret %Complex %9, !dbg !2502\n",
        "}\n"
       ]
      }
     ],
     "prompt_number": 90
    },
    {
     "cell_type": "code",
     "collapsed": false,
     "input": [
      "code_native(+,(Complex{Float64},Complex{Float64}))"
     ],
     "language": "python",
     "metadata": {},
     "outputs": [
      {
       "output_type": "stream",
       "stream": "stdout",
       "text": [
        "\t.text\n",
        "Filename: complex.jl\n",
        "Source line: 133\n",
        "\tpush\tRBP\n",
        "\tmov\tRBP, RSP\n",
        "Source line: 133\n",
        "\taddsd\tXMM0, XMM2\n",
        "\taddsd\tXMM1, XMM3\n",
        "\tpop\tRBP\n",
        "\tret\n"
       ]
      }
     ],
     "prompt_number": 91
    },
    {
     "cell_type": "code",
     "collapsed": false,
     "input": [
      "code_native(+,(Complex{Int64},Complex{Int64}))"
     ],
     "language": "python",
     "metadata": {},
     "outputs": [
      {
       "output_type": "stream",
       "stream": "stdout",
       "text": [
        "\t.text\n",
        "Filename: complex.jl\n",
        "Source line: 133\n",
        "\tpush\tRBP\n",
        "\tmov\tRBP, RSP\n",
        "Source line: 133\n",
        "\tadd\tRDI, RDX\n",
        "\tadd\tRSI, RCX\n",
        "\tmov\tRAX, RDI\n",
        "\tmov\tRDX, RSI\n",
        "\tpop\tRBP\n",
        "\tret\n"
       ]
      }
     ],
     "prompt_number": 92
    },
    {
     "cell_type": "code",
     "collapsed": false,
     "input": [],
     "language": "python",
     "metadata": {},
     "outputs": []
    }
   ],
   "metadata": {}
  }
 ]
}