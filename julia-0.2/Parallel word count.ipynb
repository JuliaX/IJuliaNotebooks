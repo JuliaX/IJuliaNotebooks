{
 "metadata": {
  "language": "Julia",
  "name": ""
 },
 "nbformat": 3,
 "nbformat_minor": 0,
 "worksheets": [
  {
   "cells": [
    {
     "cell_type": "code",
     "collapsed": false,
     "input": [
      "download(\"http://www.gutenberg.org/cache/epub/100/pg100.txt\", \"shakespeare.txt\") "
     ],
     "language": "python",
     "metadata": {},
     "outputs": [
      {
       "output_type": "stream",
       "stream": "stderr",
       "text": [
        "  % Total    % Received % Xferd  Average Speed   Time    Time     Time  Current\n",
        "                                 Dload  Upload   Total   Spent    Left  Speed\n",
        "\r",
        "  0     0    0     0    0     0      0      0 --:--:-- --:--:-- --:--:--     0"
       ]
      },
      {
       "output_type": "stream",
       "stream": "stderr",
       "text": [
        "\r",
        "100  1050"
       ]
      },
      {
       "output_type": "stream",
       "stream": "stderr",
       "text": [
        "  100  1050    0     0   5326      0 --:--:-- --:--:-- --:--:--  5357\n"
       ]
      },
      {
       "metadata": {},
       "output_type": "pyout",
       "prompt_number": 1,
       "text": [
        "\"bookText.txt\""
       ]
      }
     ],
     "prompt_number": 1
    },
    {
     "cell_type": "code",
     "collapsed": false,
     "input": [
      ";ls -l shakespeare.txt"
     ],
     "language": "python",
     "metadata": {},
     "outputs": [
      {
       "output_type": "stream",
       "stream": "stderr",
       "text": [
        "bash: no job control in this shell\n"
       ]
      },
      {
       "output_type": "stream",
       "stream": "stdout",
       "text": [
        "-rw-r--r-- 1 ec2-user ec2-user 5582295 Nov  9 06:18 shakespeare.txt\n"
       ]
      }
     ],
     "prompt_number": 3
    },
    {
     "cell_type": "code",
     "collapsed": false,
     "input": [
      "# \"Map\" function.\n",
      "# Takes a string. Returns a HashTable with the number of times each word \n",
      "# appears in that string.\n",
      "function wordcount(text)\n",
      "    words=split(text,(' ','\\n','\\t','-','.',',',':','_','\"',';','!'),false)\n",
      "    counts=HashTable()\n",
      "    for w = words\n",
      "        counts[w]=get(counts,w,0)+1\n",
      "    end\n",
      "    return counts\n",
      "end"
     ],
     "language": "python",
     "metadata": {},
     "outputs": [
      {
       "metadata": {},
       "output_type": "pyout",
       "prompt_number": 2,
       "text": [
        "wordcount (generic function with 1 method)"
       ]
      }
     ],
     "prompt_number": 2
    },
    {
     "cell_type": "code",
     "collapsed": false,
     "input": [
      "# \"Reduce\" function.\n",
      "# Takes a collection of HashTables in the format returned by wordcount()\n",
      "# Returns a HashTable in which words that appear in multiple inputs\n",
      "# have their totals added together.\n",
      "function wcreduce(wcs)\n",
      "    counts=HashTable()\n",
      "    for c = wcs\n",
      "        for (k,v)=c\n",
      "            counts[k] = get(counts,k,0)+v\n",
      "        end\n",
      "    end\n",
      "    return counts\n",
      "end"
     ],
     "language": "python",
     "metadata": {},
     "outputs": [
      {
       "metadata": {},
       "output_type": "pyout",
       "prompt_number": 4,
       "text": [
        "wcreduce (generic function with 1 method)"
       ]
      }
     ],
     "prompt_number": 4
    },
    {
     "cell_type": "code",
     "collapsed": false,
     "input": [
      "# Splits input string into nprocs() equal-sized chunks (last one rounds up), \n",
      "# and @spawns wordcount() for each chunk to run in parallel. Then fetch()s\n",
      "# results and performs wcreduce().\n",
      "# Limitations: splitting the string and reduction step are single-threaded.\n",
      "function parallel_wordcount(text)\n",
      "    lines=split(text,'\\n',false)\n",
      "    np=nprocs()\n",
      "    unitsize=ceil(length(lines)/np)\n",
      "    wcounts={}\n",
      "    rrefs={}\n",
      "    # spawn procs\n",
      "    for i=1:np\n",
      "        first=unitsize*(i-1)+1\n",
      "        last=unitsize*i\n",
      "        if last>length(lines)\n",
      "            last=length(lines)\n",
      "        end\n",
      "        subtext=join(lines[int(first):int(last)],\"\\n\")\n",
      "        push(rrefs, @spawn wordcount( subtext ) )\n",
      "    end\n",
      "    # fetch results\n",
      "    while length(rrefs)>0\n",
      "        push(wcounts,fetch(pop(rrefs)))\n",
      "    end\n",
      "    # reduce\n",
      "    count=wcreduce(wcounts)\n",
      "    return count\n",
      "end"
     ],
     "language": "python",
     "metadata": {},
     "outputs": [
      {
       "metadata": {},
       "output_type": "pyout",
       "prompt_number": 6,
       "text": [
        "parallel_wordcount (generic function with 1 method)"
       ]
      }
     ],
     "prompt_number": 6
    },
    {
     "cell_type": "code",
     "collapsed": false,
     "input": [
      "# Takes the name of a result file, and a list of input file names.\n",
      "# Combines the contents of all files, then performs a parallel_wordcount\n",
      "# on the resulting string. Writes the results to result_file.\n",
      "# Limitation: Performs all file IO single-threaded.\n",
      "function wordcount_files(result_file,input_file_names...)\n",
      "    text=\"\"\n",
      "    for f = input_file_names\n",
      "        fh=open(f)\n",
      "        text=join( {text,readall(fh)}, \"\\n\" )\n",
      "        close(fh)\n",
      "    end\n",
      "    wc=parallel_wordcount(text)\n",
      "    fo=open(result_file,\"w\")\n",
      "    for (k,v) = wc\n",
      "        with_output_stream(fo,println,k,\"=\",v)\n",
      "    end\n",
      "end"
     ],
     "language": "python",
     "metadata": {},
     "outputs": [
      {
       "metadata": {},
       "output_type": "pyout",
       "prompt_number": 9,
       "text": [
        "wordcount_files (generic function with 1 method)"
       ]
      }
     ],
     "prompt_number": 9
    },
    {
     "cell_type": "code",
     "collapsed": false,
     "input": [
      "text=\"\"\n",
      "fh=open(\"bookText.txt\")\n",
      "text=join( {text,readall(fh)}, \"\\n\" )\n",
      "close(fh)\n",
      "\n",
      "text"
     ],
     "language": "python",
     "metadata": {},
     "outputs": [
      {
       "metadata": {},
       "output_type": "pyout",
       "prompt_number": 30,
       "text": [
        "\"\\n<!DOCTYPE HTML>\\n<html><head><title>Error 403</title></head>\\n<body>\\n<h1>Error 403</h1>\\n\\n<p>To fix this error:</p>\\n\\n<ul>\\n  <li>Don't use anonymizers, open proxies, VPNs, or TOR to access Project Gutenberg.</li>\\n  <li>Don't access Project Gutenberg from hosted servers.</li>\\n  <li>Don't use automated software to download lots of books. We have a limit on how fast you can go while using this site. If you surpass this limit you get blocked for 24h.</li>\\n  <li>We have a daily limit on how many books you can download. If you exceeded this limit you get blocked for 24h.</li>\\n</ul>\\n\\n<p>\\nIf you are sure that none of the above applies to you, \\nand wish us to investigate the problem,\\nwe need to know your IP address.\\nGo to <a href=\\\"http://www.whatismyip.com/\\\">this site</a>,\\ndon't sign up, \\njust copy the IP address \\n(it looks like: 12.34.56.78 but your numbers will be different)\\nand\\n<a href=\\\"mailto:webmaster@gutenberg.org?subject=403%20help\\\">mail it to us</a>.\\nIf that page also shows a proxy address, we need that one instead. \\n</p>\\n\\n</body>\\n</html>\\n\""
       ]
      }
     ],
     "prompt_number": 30
    },
    {
     "cell_type": "code",
     "collapsed": false,
     "input": [],
     "language": "python",
     "metadata": {},
     "outputs": []
    }
   ],
   "metadata": {}
  }
 ]
}