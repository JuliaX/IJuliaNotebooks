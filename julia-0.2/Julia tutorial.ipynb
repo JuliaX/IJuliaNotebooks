{
 "metadata": {
  "language": "Julia",
  "name": ""
 },
 "nbformat": 3,
 "nbformat_minor": 0,
 "worksheets": [
  {
   "cells": [
    {
     "cell_type": "markdown",
     "metadata": {},
     "source": [
      "# A Julia tutorial\n",
      "\n",
      "If you can read this and see the IJulia logo in the top left corner of the browser window, congratulations! You are ready to start using Julia.\n",
      "\n",
      "This IJulia notebook is fully executable. The Julia code is grouped into units called cells. To run all the commands in a cell, click inside and press Shift+Enter."
     ]
    },
    {
     "cell_type": "code",
     "collapsed": false,
     "input": [
      "1+1"
     ],
     "language": "python",
     "metadata": {},
     "outputs": []
    },
    {
     "cell_type": "markdown",
     "metadata": {},
     "source": [
      "Try changing the code to see what it will do!"
     ]
    },
    {
     "cell_type": "markdown",
     "metadata": {},
     "source": [
      "# 1. Printing things\n",
      "\n",
      "The basic way to print things is to use the `println()` (print line) function."
     ]
    },
    {
     "cell_type": "code",
     "collapsed": false,
     "input": [
      "println(\"Hello world\")"
     ],
     "language": "python",
     "metadata": {},
     "outputs": [
      {
       "output_type": "stream",
       "stream": "stdout",
       "text": [
        "Hello world\n"
       ]
      }
     ],
     "prompt_number": 2
    },
    {
     "cell_type": "markdown",
     "metadata": {},
     "source": [
      "You can also use the `print()` function, which does the same thing, but leaves out the newline at the end."
     ]
    },
    {
     "cell_type": "code",
     "collapsed": false,
     "input": [
      "print(\"Hello\")\n",
      "print(\"world\")"
     ],
     "language": "python",
     "metadata": {},
     "outputs": [
      {
       "output_type": "stream",
       "stream": "stdout",
       "text": [
        "Helloworld"
       ]
      }
     ],
     "prompt_number": 3
    },
    {
     "cell_type": "markdown",
     "metadata": {},
     "source": [
      "Don't forget the enclosing parentheses, or you will get an error:"
     ]
    },
    {
     "cell_type": "code",
     "collapsed": false,
     "input": [
      "print 1+2"
     ],
     "language": "python",
     "metadata": {},
     "outputs": [
      {
       "ename": "LoadError",
       "evalue": "syntax: extra token \"1\" after end of expression\nat In[16]:1",
       "output_type": "pyerr",
       "traceback": [
        "syntax: extra token \"1\" after end of expression\nat In[16]:1"
       ]
      }
     ],
     "prompt_number": 16
    },
    {
     "cell_type": "code",
     "collapsed": false,
     "input": [
      "print(1+2)"
     ],
     "language": "python",
     "metadata": {},
     "outputs": [
      {
       "output_type": "stream",
       "stream": "stdout",
       "text": [
        "3"
       ]
      }
     ],
     "prompt_number": 17
    },
    {
     "cell_type": "markdown",
     "metadata": {},
     "source": [
      "You can `print` multiple things together. Separate each piece with commas:"
     ]
    },
    {
     "cell_type": "code",
     "collapsed": false,
     "input": [
      "print(\"1 + 1 = \", 1+1)"
     ],
     "language": "python",
     "metadata": {},
     "outputs": [
      {
       "output_type": "stream",
       "stream": "stdout",
       "text": [
        "1 + 1 = 2"
       ]
      }
     ],
     "prompt_number": 19
    },
    {
     "cell_type": "markdown",
     "metadata": {},
     "source": [
      "**Note:** Julia does not automatically insert spaces when printing multiple items together:"
     ]
    },
    {
     "cell_type": "code",
     "collapsed": false,
     "input": [
      "println(\"For\",\"sooth!\",\"There is no \",1,\" I trust more\", \".\")"
     ],
     "language": "python",
     "metadata": {},
     "outputs": [
      {
       "output_type": "stream",
       "stream": "stdout",
       "text": [
        "Forsooth!"
       ]
      },
      {
       "output_type": "stream",
       "stream": "stdout",
       "text": [
        "There is no 1 I trust more.\n"
       ]
      }
     ],
     "prompt_number": 23
    },
    {
     "cell_type": "markdown",
     "metadata": {},
     "source": [
      "## Printing in interactive mode\n",
      "\n",
      "In a [REPL](http://en.wikipedia.org/wiki/Read%E2%80%93eval%E2%80%93print_loop) such as this IJulia notebook, Julia will automatically print the result of the last statement. This will **not** happen if you run julia [in a non-interactive mode](http://docs.julialang.org/en/latest/manual/getting-started/)."
     ]
    },
    {
     "cell_type": "code",
     "collapsed": false,
     "input": [
      "1+1\n",
      "2+2"
     ],
     "language": "python",
     "metadata": {},
     "outputs": [
      {
       "metadata": {},
       "output_type": "pyout",
       "prompt_number": 24,
       "text": [
        "4"
       ]
      }
     ],
     "prompt_number": 24
    },
    {
     "cell_type": "markdown",
     "metadata": {},
     "source": [
      "However, a `print` or `println` function will always produce printable output."
     ]
    },
    {
     "cell_type": "code",
     "collapsed": false,
     "input": [
      "1\n",
      "2\n",
      "print(\"3\")\n",
      "4\n",
      "5"
     ],
     "language": "python",
     "metadata": {},
     "outputs": [
      {
       "output_type": "stream",
       "stream": "stdout",
       "text": [
        "3"
       ]
      },
      {
       "metadata": {},
       "output_type": "pyout",
       "prompt_number": 26,
       "text": [
        "5"
       ]
      }
     ],
     "prompt_number": 26
    },
    {
     "cell_type": "markdown",
     "metadata": {},
     "source": [
      "## Escaping characters"
     ]
    },
    {
     "cell_type": "markdown",
     "metadata": {},
     "source": [
      "Some special characters are produced by **escape sequences**. An escape sequence starts with a backslash `\\` and ends with a single character that follows it.\n",
      "\n",
      "Here are two very common examples:"
     ]
    },
    {
     "cell_type": "code",
     "collapsed": false,
     "input": [
      "println(\"1\\n2\") #Newline\n",
      "println(\"1\\t2\") #Tab"
     ],
     "language": "python",
     "metadata": {},
     "outputs": [
      {
       "output_type": "stream",
       "stream": "stdout",
       "text": [
        "1\n",
        "2\n"
       ]
      },
      {
       "output_type": "stream",
       "stream": "stdout",
       "text": [
        "1\u00072\n",
        "1\t2\n"
       ]
      }
     ],
     "prompt_number": 53
    },
    {
     "cell_type": "markdown",
     "metadata": {},
     "source": [
      "To print the baskslash character itself, it has to be escaped with another backslash."
     ]
    },
    {
     "cell_type": "code",
     "collapsed": false,
     "input": [
      "println(\"1\\\\2\") #backslash"
     ],
     "language": "python",
     "metadata": {},
     "outputs": [
      {
       "output_type": "stream",
       "stream": "stdout",
       "text": [
        "1\\2\n"
       ]
      }
     ],
     "prompt_number": 54
    },
    {
     "cell_type": "markdown",
     "metadata": {},
     "source": [
      "The dollar sign has special meaning in Julia and must be escaped to print correctly."
     ]
    },
    {
     "cell_type": "code",
     "collapsed": false,
     "input": [
      "println(\"\\$\")"
     ],
     "language": "python",
     "metadata": {},
     "outputs": [
      {
       "output_type": "stream",
       "stream": "stdout",
       "text": [
        "$\n"
       ]
      }
     ],
     "prompt_number": 74
    },
    {
     "cell_type": "markdown",
     "metadata": {},
     "source": [
      "## (Optional) Unicode characters"
     ]
    },
    {
     "cell_type": "markdown",
     "metadata": {},
     "source": [
      "Julia supports [Unicode characters](http://www.unicode.org/standard/standard.html), which are used to encode non-English texts and special symbols."
     ]
    },
    {
     "cell_type": "code",
     "collapsed": false,
     "input": [
      "println('\u2211')"
     ],
     "language": "python",
     "metadata": {},
     "outputs": [
      {
       "output_type": "stream",
       "stream": "stdout",
       "text": [
        "\u2211\n"
       ]
      }
     ],
     "prompt_number": 15
    },
    {
     "cell_type": "markdown",
     "metadata": {},
     "source": [
      "In Julia, a single character is quoted with single quotes ('), whereas strings are enclosed by double quotes (\").\n",
      "\n",
      "The following will produce an error in Julia:"
     ]
    },
    {
     "cell_type": "code",
     "collapsed": false,
     "input": [
      "println('Hello')"
     ],
     "language": "python",
     "metadata": {},
     "outputs": [
      {
       "ename": "LoadError",
       "evalue": "syntax: invalid character literal\nat In[8]:1",
       "output_type": "pyerr",
       "traceback": [
        "syntax: invalid character literal\nat In[8]:1"
       ]
      }
     ],
     "prompt_number": 8
    },
    {
     "cell_type": "markdown",
     "metadata": {},
     "source": [
      "Here is the first article of the [UN Declaration of Human Rights](http://www.un.org/en/documents/udhr/index.shtml#a1) [in Chinese](http://www.un.org/zh/documents/udhr/index.shtml#a1):"
     ]
    },
    {
     "cell_type": "code",
     "collapsed": false,
     "input": [
      "print(\"\u4eba\u4eba\u751f\u800c\u81ea\u7531\uff0c\u5728\u5c0a\u4e25\u548c\u6743\u5229\u4e0a\u4e00\u5f8b\u5e73\u7b49\u3002\u4ed6\u4eec\u8d4b\u6709\u7406\u6027\u548c\u826f\u5fc3\uff0c\u5e76\u5e94\u4ee5\u5144\u5f1f\u5173\u7cfb\u7684\u7cbe\u795e\u76f8\u5bf9\u5f85\u3002\")"
     ],
     "language": "python",
     "metadata": {},
     "outputs": [
      {
       "output_type": "stream",
       "stream": "stdout",
       "text": [
        "\u4eba\u4eba\u751f\u800c\u81ea\u7531\uff0c\u5728\u5c0a\u4e25\u548c\u6743\u5229\u4e0a\u4e00\u5f8b\u5e73\u7b49\u3002\u4ed6\u4eec\u8d4b\u6709\u7406\u6027\u548c\u826f\u5fc3\uff0c\u5e76\u5e94\u4ee5\u5144\u5f1f\u5173\u7cfb\u7684\u7cbe\u795e\u76f8\u5bf9\u5f85\u3002"
       ]
      }
     ],
     "prompt_number": 6
    },
    {
     "cell_type": "markdown",
     "metadata": {},
     "source": [
      "To specify a Unicode character by its [code point](http://www.unicode.org/charts/charindex.html):\n",
      "\n",
      "a) use `\\U` followed by its hexadecimal code point."
     ]
    },
    {
     "cell_type": "code",
     "collapsed": false,
     "input": [
      "print('\\U263A')"
     ],
     "language": "python",
     "metadata": {},
     "outputs": [
      {
       "output_type": "stream",
       "stream": "stdout",
       "text": [
        "\u263a"
       ]
      }
     ],
     "prompt_number": 12
    },
    {
     "cell_type": "markdown",
     "metadata": {},
     "source": [
      "or, b) use the `char()` function."
     ]
    },
    {
     "cell_type": "code",
     "collapsed": false,
     "input": [
      "char(0xa22d)"
     ],
     "language": "python",
     "metadata": {},
     "outputs": [
      {
       "metadata": {},
       "output_type": "pyout",
       "prompt_number": 2,
       "text": [
        "'\ua22d'"
       ]
      }
     ],
     "prompt_number": 2
    },
    {
     "cell_type": "code",
     "collapsed": false,
     "input": [
      "Julia provides the `is_valid_char()` function to check if a valid character was specified."
     ],
     "language": "python",
     "metadata": {},
     "outputs": []
    },
    {
     "cell_type": "code",
     "collapsed": false,
     "input": [
      "println(is_valid_char(0x110000))\n",
      "println(is_valid_char(0x1100))"
     ],
     "language": "python",
     "metadata": {},
     "outputs": [
      {
       "output_type": "stream",
       "stream": "stdout",
       "text": [
        "Starting kernel event loops.\n",
        "false"
       ]
      },
      {
       "output_type": "stream",
       "stream": "stdout",
       "text": [
        "\n",
        "true\n"
       ]
      }
     ],
     "prompt_number": 1
    },
    {
     "cell_type": "markdown",
     "metadata": {},
     "source": [
      "Sometimes the character won't display correctly. This is usually a problem with the font you are using.\n",
      "\n",
      "You can try your luck with the Unicode character for a slice of pizza:"
     ]
    },
    {
     "cell_type": "code",
     "collapsed": false,
     "input": [
      "println('\\U1f355')"
     ],
     "language": "python",
     "metadata": {},
     "outputs": [
      {
       "output_type": "stream",
       "stream": "stdout",
       "text": [
        "\ud83c\udf55\n"
       ]
      }
     ],
     "prompt_number": 33
    },
    {
     "cell_type": "markdown",
     "metadata": {},
     "source": [
      "#2. Comments\n",
      "\n",
      "Julia ignores the entire part of a line after a `#` symbol. <small><small><small>(What is this symbol [really called](http://en.wiktionary.org/wiki/octothorpe) anyway?)</small></small></small>"
     ]
    },
    {
     "cell_type": "code",
     "collapsed": false,
     "input": [
      "print(\"The jail still held the heart I lost and the finger I stole\") #from you"
     ],
     "language": "python",
     "metadata": {},
     "outputs": [
      {
       "output_type": "stream",
       "stream": "stdout",
       "text": [
        "The jail still held the heart I lost and the finger I stole"
       ]
      }
     ],
     "prompt_number": 28
    },
    {
     "cell_type": "markdown",
     "metadata": {},
     "source": [
      "<small><small><small>(This example sentence was taken from [here](http://www.essayscam.org/Forum/17/ellipsis-4109/).)</small></small></small>"
     ]
    },
    {
     "cell_type": "markdown",
     "metadata": {},
     "source": [
      "Comments are useful for leaving notes about code that is tricky or potentially confusing, and for temporarily disabling part of Julia programs."
     ]
    },
    {
     "cell_type": "code",
     "collapsed": false,
     "input": [
      "println(\"Roses are red\")\n",
      "println(\"Violets are blue\")\n",
      "#println(\"I don't like bread\")\n",
      "println(\"One plus one is \", 1+1) #Compute the answer"
     ],
     "language": "python",
     "metadata": {},
     "outputs": [
      {
       "output_type": "stream",
       "stream": "stdout",
       "text": [
        "Roses are red\n"
       ]
      },
      {
       "output_type": "stream",
       "stream": "stdout",
       "text": [
        "Violets are blue\n",
        "One plus one is 2\n"
       ]
      }
     ],
     "prompt_number": 31
    },
    {
     "cell_type": "markdown",
     "metadata": {},
     "source": [
      "# 3. Basic math\n",
      "\n",
      "Here's the very basics."
     ]
    },
    {
     "cell_type": "code",
     "collapsed": false,
     "input": [
      "println(\"+1 = \", +1)\n",
      "println(\"-1 = \", -1)\n",
      "println(\"1 + 1 = \", 1+1)\n",
      "println(\"1 - 1 = \", 1-1)\n",
      "println(\"2 * 3 = \", 2*3)\n",
      "println(\"2 / 3 = \", 2/3)  #The answer is not a whole number!\n",
      "println(\"3 \\\\ 2 = \", 3\\2) #Same as above\n",
      "println(\"2 ^ 3 = \", 2^3)  #This is exponentiation"
     ],
     "language": "python",
     "metadata": {},
     "outputs": [
      {
       "output_type": "stream",
       "stream": "stdout",
       "text": [
        "+1 = 1"
       ]
      },
      {
       "output_type": "stream",
       "stream": "stdout",
       "text": [
        "\n",
        "-1 = -1\n",
        "1 + 1 = 2\n",
        "1 - 1 = 0\n",
        "2 * 3 = 6\n",
        "2 / 3 = 0.6666666666666666\n",
        "3 \\ 2 = 0.6666666666666666\n",
        "2 ^ 3 = 8\n"
       ]
      }
     ],
     "prompt_number": 40
    },
    {
     "cell_type": "markdown",
     "metadata": {},
     "source": [
      "Remainders are slightly trickier, particularly when it comes to negative numbers."
     ]
    },
    {
     "cell_type": "code",
     "collapsed": false,
     "input": [
      "println(\"5 % 2 = \", 5%2)\n",
      "println(\"rem(5,2) = \", rem(5,2)) #Same as above\n",
      "println(\"mod(5,2) = \", mod(5,2))"
     ],
     "language": "python",
     "metadata": {},
     "outputs": [
      {
       "output_type": "stream",
       "stream": "stdout",
       "text": [
        "5 % 2 = 1"
       ]
      },
      {
       "output_type": "stream",
       "stream": "stdout",
       "text": [
        "\n",
        "rem(5,2) = 1\n",
        "mod(5,2) = 1\n"
       ]
      }
     ],
     "prompt_number": 58
    },
    {
     "cell_type": "code",
     "collapsed": false,
     "input": [
      "println(\"5 % 2.5 = \", 5%2.5)\n",
      "println(\"rem(5,2.5) = \", rem(5,2.5)) #Same as above\n",
      "println(\"mod(5,2.5) = \", mod(5,2.5))"
     ],
     "language": "python",
     "metadata": {},
     "outputs": [
      {
       "output_type": "stream",
       "stream": "stdout",
       "text": [
        "5 % 2.5 = 0"
       ]
      },
      {
       "output_type": "stream",
       "stream": "stdout",
       "text": [
        ".0\n",
        "rem(5,2.5) = 0.0\n",
        "mod(5,2.5) = 0.0\n"
       ]
      }
     ],
     "prompt_number": 64
    },
    {
     "cell_type": "code",
     "collapsed": false,
     "input": [
      "println(\"-5 % 2 = \", -5%2)\n",
      "println(\"rem(-5,2) = \", rem(-5,2)) #Same as above\n",
      "println(\"mod(-5,2) = \", mod(-5,2))"
     ],
     "language": "python",
     "metadata": {},
     "outputs": [
      {
       "output_type": "stream",
       "stream": "stdout",
       "text": [
        "-5 % 2 = -1"
       ]
      },
      {
       "output_type": "stream",
       "stream": "stdout",
       "text": [
        "\n",
        "rem(-5,2) = -1\n",
        "mod(-5,2) = 1\n"
       ]
      }
     ],
     "prompt_number": 59
    },
    {
     "cell_type": "markdown",
     "metadata": {},
     "source": [
      "For convenience, you can use underscores (`_`) to separate groups of digits."
     ]
    },
    {
     "cell_type": "code",
     "collapsed": false,
     "input": [
      "525_600 #Five hundred twenty five thousand six hundred "
     ],
     "language": "python",
     "metadata": {},
     "outputs": [
      {
       "metadata": {},
       "output_type": "pyout",
       "prompt_number": 12,
       "text": [
        "525600"
       ]
      }
     ],
     "prompt_number": 12
    },
    {
     "cell_type": "code",
     "collapsed": false,
     "input": [
      "1_00_00_000 #One crore = 10^7"
     ],
     "language": "python",
     "metadata": {},
     "outputs": [
      {
       "metadata": {},
       "output_type": "pyout",
       "prompt_number": 11,
       "text": [
        "10000000"
       ]
      }
     ],
     "prompt_number": 11
    },
    {
     "cell_type": "markdown",
     "metadata": {},
     "source": [
      "## TODO Floating-point"
     ]
    },
    {
     "cell_type": "code",
     "collapsed": false,
     "input": [
      "println(\"1 / 0 = \", 1/0)"
     ],
     "language": "python",
     "metadata": {},
     "outputs": [
      {
       "output_type": "stream",
       "stream": "stdout",
       "text": [
        "1 / 0 = Inf"
       ]
      },
      {
       "output_type": "stream",
       "stream": "stdout",
       "text": [
        "\n"
       ]
      }
     ],
     "prompt_number": 65
    },
    {
     "cell_type": "markdown",
     "metadata": {},
     "source": [
      "## Complex numbers\n",
      "\n",
      "The imaginary unit is called `im` in Julia."
     ]
    },
    {
     "cell_type": "code",
     "collapsed": false,
     "input": [
      "z=3+4im\n",
      "z' #conjugate"
     ],
     "language": "python",
     "metadata": {},
     "outputs": [
      {
       "metadata": {},
       "output_type": "pyout",
       "prompt_number": 6,
       "text": [
        "3 - 4im"
       ]
      }
     ],
     "prompt_number": 6
    },
    {
     "cell_type": "code",
     "collapsed": false,
     "input": [
      "z*z'"
     ],
     "language": "python",
     "metadata": {},
     "outputs": [
      {
       "metadata": {},
       "output_type": "pyout",
       "prompt_number": 8,
       "text": [
        "25 + 0im"
       ]
      }
     ],
     "prompt_number": 8
    },
    {
     "cell_type": "markdown",
     "metadata": {},
     "source": [
      "# 4. Variables\n",
      "\n",
      "Variables allow you to store and reuse the results from earlier calculations.\n",
      "\n",
      "There are very few limits to what names you can use for your variables. There is no implicit type of any variable.\n",
      "\n",
      "## Naming variables and Assigning them values\n",
      "\n",
      "Use a single equal `=` sign to assign variables."
     ]
    },
    {
     "cell_type": "code",
     "collapsed": false,
     "input": [
      "i=2.0"
     ],
     "language": "python",
     "metadata": {},
     "outputs": [
      {
       "metadata": {},
       "output_type": "pyout",
       "prompt_number": 13,
       "text": [
        "2.0"
       ]
      }
     ],
     "prompt_number": 13
    },
    {
     "cell_type": "code",
     "collapsed": false,
     "input": [
      "supercalifragilisticexpialidocious = pi\n",
      "supercalifragilisticexpialidocious/2"
     ],
     "language": "python",
     "metadata": {},
     "outputs": [
      {
       "metadata": {},
       "output_type": "pyout",
       "prompt_number": 15,
       "text": [
        "1.5707963267948966"
       ]
      }
     ],
     "prompt_number": 15
    },
    {
     "cell_type": "code",
     "collapsed": false,
     "input": [
      "e = 1+1im"
     ],
     "language": "python",
     "metadata": {},
     "outputs": [
      {
       "metadata": {},
       "output_type": "pyout",
       "prompt_number": 17,
       "text": [
        "1 + 1im"
       ]
      }
     ],
     "prompt_number": 17
    },
    {
     "cell_type": "code",
     "collapsed": false,
     "input": [
      "z=3+4im\n",
      "\u03be=1/z"
     ],
     "language": "python",
     "metadata": {},
     "outputs": [
      {
       "metadata": {},
       "output_type": "pyout",
       "prompt_number": 27,
       "text": [
        "0.09090909090909091"
       ]
      }
     ],
     "prompt_number": 27
    },
    {
     "cell_type": "code",
     "collapsed": false,
     "input": [
      "\u30a2\u30eb\u30b3\u30fc\u30eb = 0.1337\n",
      "\u30a2\u30eb\u30b3\u30fc\u30eb^2"
     ],
     "language": "python",
     "metadata": {},
     "outputs": [
      {
       "metadata": {},
       "output_type": "pyout",
       "prompt_number": 30,
       "text": [
        "0.017875690000000003"
       ]
      }
     ],
     "prompt_number": 30
    },
    {
     "cell_type": "markdown",
     "metadata": {},
     "source": [
      "You can even use names of built-in variables and functions, if you so choose. (This is usually not a good idea since it is very easy to write confusing code.)"
     ]
    },
    {
     "cell_type": "code",
     "collapsed": false,
     "input": [
      "im=2\n",
      "3+4im"
     ],
     "language": "python",
     "metadata": {},
     "outputs": [
      {
       "metadata": {},
       "output_type": "pyout",
       "prompt_number": 31,
       "text": [
        "11"
       ]
      }
     ],
     "prompt_number": 31
    },
    {
     "cell_type": "markdown",
     "metadata": {},
     "source": [
      "You *cannot*, however, use the names of Julia keywords for your variable names."
     ]
    },
    {
     "cell_type": "code",
     "collapsed": false,
     "input": [
      "end=0.5im"
     ],
     "language": "python",
     "metadata": {},
     "outputs": [
      {
       "ename": "LoadError",
       "evalue": "syntax: unexpected end\nat In[23]:1",
       "output_type": "pyerr",
       "traceback": [
        "syntax: unexpected end\nat In[23]:1"
       ]
      }
     ],
     "prompt_number": 23
    },
    {
     "cell_type": "markdown",
     "metadata": {},
     "source": [
      "## Comparing variables\n",
      "\n",
      "Use the double equals `==` operator to compare variables or values."
     ]
    },
    {
     "cell_type": "code",
     "collapsed": false,
     "input": [
      "x=1\n",
      "x==2"
     ],
     "language": "python",
     "metadata": {},
     "outputs": [
      {
       "metadata": {},
       "output_type": "pyout",
       "prompt_number": 33,
       "text": [
        "false"
       ]
      }
     ],
     "prompt_number": 33
    },
    {
     "cell_type": "markdown",
     "metadata": {},
     "source": [
      "To test inequality, use `!=`:"
     ]
    },
    {
     "cell_type": "code",
     "collapsed": false,
     "input": [
      "x!=x+1"
     ],
     "language": "python",
     "metadata": {},
     "outputs": [
      {
       "metadata": {},
       "output_type": "pyout",
       "prompt_number": 35,
       "text": [
        "true"
       ]
      }
     ],
     "prompt_number": 35
    },
    {
     "cell_type": "code",
     "collapsed": false,
     "input": [
      "Printing variables"
     ],
     "language": "python",
     "metadata": {},
     "outputs": []
    },
    {
     "cell_type": "code",
     "collapsed": false,
     "input": [
      "There are a few ways to print variables in Julia:"
     ],
     "language": "python",
     "metadata": {},
     "outputs": []
    },
    {
     "cell_type": "code",
     "collapsed": false,
     "input": [
      "g=9.81"
     ],
     "language": "python",
     "metadata": {},
     "outputs": []
    },
    {
     "cell_type": "markdown",
     "metadata": {},
     "source": [
      "# Multiple dispatch"
     ]
    },
    {
     "cell_type": "code",
     "collapsed": false,
     "input": [],
     "language": "python",
     "metadata": {},
     "outputs": []
    },
    {
     "cell_type": "code",
     "collapsed": false,
     "input": [
      "f(x::Number, y::Number) = (x,y)\n",
      "f(1,2)"
     ],
     "language": "python",
     "metadata": {},
     "outputs": [
      {
       "metadata": {},
       "output_type": "pyout",
       "prompt_number": 1,
       "text": [
        "(1,2)"
       ]
      }
     ],
     "prompt_number": 1
    },
    {
     "cell_type": "code",
     "collapsed": false,
     "input": [
      "f(x::String, y::String) = string(x,y)\n",
      "f(\"foo\",\"bar\")"
     ],
     "language": "python",
     "metadata": {},
     "outputs": [
      {
       "metadata": {},
       "output_type": "pyout",
       "prompt_number": 2,
       "text": [
        "\"foobar\""
       ]
      }
     ],
     "prompt_number": 2
    },
    {
     "cell_type": "code",
     "collapsed": false,
     "input": [
      "f(x,y) = f(string(x),string(y))\n",
      "f(\"I like \",1\u03c0)"
     ],
     "language": "python",
     "metadata": {},
     "outputs": [
      {
       "metadata": {},
       "output_type": "pyout",
       "prompt_number": 4,
       "text": [
        "\"I like 3.141592653589793\""
       ]
      }
     ],
     "prompt_number": 4
    },
    {
     "cell_type": "markdown",
     "metadata": {},
     "source": [
      "Introspection"
     ]
    },
    {
     "cell_type": "code",
     "collapsed": false,
     "input": [
      "methods(f)"
     ],
     "language": "python",
     "metadata": {},
     "outputs": [
      {
       "metadata": {},
       "output_type": "pyout",
       "prompt_number": 5,
       "text": [
        "# 3 methods for generic function \"f\":\n",
        "f(x::Number,y::Number) at In[1]:1\n",
        "f(x::String,y::String) at In[2]:1\n",
        "f(x,y) at In[4]:1"
       ]
      }
     ],
     "prompt_number": 5
    },
    {
     "cell_type": "markdown",
     "metadata": {},
     "source": [
      "Declaring types"
     ]
    },
    {
     "cell_type": "code",
     "collapsed": false,
     "input": [
      "type LP\n",
      "    c # Types are optional\n",
      "    A::Matrix{Float64}\n",
      "    b::Vector{Float64}\n",
      "end\n",
      "randlp(n,m)=LP(rand(n),rand(n,m),rand(m))\n",
      "mylp = randlp(10,5)\n",
      "println(mylp.c)"
     ],
     "language": "python",
     "metadata": {},
     "outputs": [
      {
       "output_type": "stream",
       "stream": "stdout",
       "text": [
        ".23562710945428877\n",
        ".23951372465002896\n",
        ".7525737066697606\n",
        ".010800546955753054\n",
        ".5230908626626509\n",
        ".2716179537331287\n",
        ".7217869017869374\n",
        ".8982447615369507\n",
        ".5718451267150129\n",
        ".5881888772951562\n",
        "\n"
       ]
      }
     ],
     "prompt_number": 6
    },
    {
     "cell_type": "markdown",
     "metadata": {},
     "source": [
      "Parametric types"
     ]
    },
    {
     "cell_type": "code",
     "collapsed": false,
     "input": [
      "type LP2{T}\n",
      "    c::Vector{T}\n",
      "    A::Matrix{T}\n",
      "    b::Vector{T}\n",
      "end"
     ],
     "language": "python",
     "metadata": {},
     "outputs": [
      {
       "ename": "LoadError",
       "evalue": "invalid redefinition of constant LP2\nat In[9]:5",
       "output_type": "pyerr",
       "traceback": [
        "invalid redefinition of constant LP2\nat In[9]:5"
       ]
      }
     ],
     "prompt_number": 9
    },
    {
     "cell_type": "code",
     "collapsed": false,
     "input": [
      "lp = LP2{Float64}(mylp.c,mylp.A,mylp.b) # dbl precision\n",
      "lp = LP2{Rational}(mylp.c,mylp.A,mylp.b) # exact"
     ],
     "language": "python",
     "metadata": {},
     "outputs": [
      {
       "ename": "LoadError",
       "evalue": "no method LP2{Rational{T<:Integer}}(Array{Float64,1},Array{Float64,2},Array{Float64,1})\nat In[10]:2",
       "output_type": "pyerr",
       "traceback": [
        "no method LP2{Rational{T<:Integer}}(Array{Float64,1},Array{Float64,2},Array{Float64,1})\nat In[10]:2"
       ]
      }
     ],
     "prompt_number": 10
    },
    {
     "cell_type": "markdown",
     "metadata": {},
     "source": [
      "Lists"
     ]
    },
    {
     "cell_type": "code",
     "collapsed": false,
     "input": [
      "L = {}             # empty Vector{Any}\n",
      "push!(L,3.0)"
     ],
     "language": "python",
     "metadata": {},
     "outputs": [
      {
       "metadata": {},
       "output_type": "pyout",
       "prompt_number": 11,
       "text": [
        "1-element Array{Any,1}:\n",
        " 3.0"
       ]
      }
     ],
     "prompt_number": 11
    },
    {
     "cell_type": "code",
     "collapsed": false,
     "input": [
      "L2 = Float64[]     # Vector{Float64}\n",
      "push!(L2,:Hello)   # Error"
     ],
     "language": "python",
     "metadata": {},
     "outputs": [
      {
       "ename": "LoadError",
       "evalue": "no method convert(Type{Float64},Symbol)\nat In[12]:2",
       "output_type": "pyerr",
       "traceback": [
        "no method convert(Type{Float64},Symbol)\nat In[12]:2",
        " in push! at array.jl:659"
       ]
      }
     ],
     "prompt_number": 12
    },
    {
     "cell_type": "code",
     "collapsed": false,
     "input": [
      "push!(L2,10.7)     # Okay\n"
     ],
     "language": "python",
     "metadata": {},
     "outputs": [
      {
       "metadata": {},
       "output_type": "pyout",
       "prompt_number": 13,
       "text": [
        "1-element Array{Float64,1}:\n",
        " 10.7"
       ]
      }
     ],
     "prompt_number": 13
    },
    {
     "cell_type": "code",
     "collapsed": false,
     "input": [
      "L3 = Float64[2,3,4]# conversion"
     ],
     "language": "python",
     "metadata": {},
     "outputs": [
      {
       "metadata": {},
       "output_type": "pyout",
       "prompt_number": 14,
       "text": [
        "3-element Array{Float64,1}:\n",
        " 2.0\n",
        " 3.0\n",
        " 4.0"
       ]
      }
     ],
     "prompt_number": 14
    },
    {
     "cell_type": "markdown",
     "metadata": {},
     "source": [
      "Dictionaries"
     ]
    },
    {
     "cell_type": "code",
     "collapsed": false,
     "input": [
      "d1 = Dict()           # Empty untyped\n",
      "d1[\u201ckey\u201d] = 10        # Okay"
     ],
     "language": "python",
     "metadata": {},
     "outputs": [
      {
       "ename": "LoadError",
       "evalue": "\u201ckey\u201d not defined\nat In[15]:2",
       "output_type": "pyerr",
       "traceback": [
        "\u201ckey\u201d not defined\nat In[15]:2"
       ]
      }
     ],
     "prompt_number": 15
    },
    {
     "cell_type": "code",
     "collapsed": false,
     "input": [
      "d2 = (Symbol=>Int)[]  # Empty typed\n",
      "d2[:x] = 8            # Okay\n",
      "d2[10] = \"value\"      # Error"
     ],
     "language": "python",
     "metadata": {},
     "outputs": [
      {
       "ename": "LoadError",
       "evalue": "no method convert(Type{Symbol},Int64)\nat In[17]:3",
       "output_type": "pyerr",
       "traceback": [
        "no method convert(Type{Symbol},Int64)\nat In[17]:3",
        " in setindex! at dict.jl:412"
       ]
      }
     ],
     "prompt_number": 17
    },
    {
     "cell_type": "code",
     "collapsed": false,
     "input": [
      "d3 = [:Cat=>13, :Dog=>14]\n",
      "d3[:Dog]"
     ],
     "language": "python",
     "metadata": {},
     "outputs": [
      {
       "metadata": {},
       "output_type": "pyout",
       "prompt_number": 19,
       "text": [
        "14"
       ]
      }
     ],
     "prompt_number": 19
    },
    {
     "cell_type": "markdown",
     "metadata": {},
     "source": [
      "Exercise!\n",
      "\n",
      "Write a function that takes a vector and normalizes it in place by its L2 norm. Use for loops."
     ]
    },
    {
     "cell_type": "code",
     "collapsed": false,
     "input": [
      "f(v) = v/norm(v)"
     ],
     "language": "python",
     "metadata": {},
     "outputs": [
      {
       "metadata": {},
       "output_type": "pyout",
       "prompt_number": 20,
       "text": [
        "f (generic function with 4 methods)"
       ]
      }
     ],
     "prompt_number": 20
    },
    {
     "cell_type": "code",
     "collapsed": false,
     "input": [],
     "language": "python",
     "metadata": {},
     "outputs": []
    },
    {
     "cell_type": "code",
     "collapsed": false,
     "input": [],
     "language": "python",
     "metadata": {},
     "outputs": []
    }
   ],
   "metadata": {}
  }
 ]
}