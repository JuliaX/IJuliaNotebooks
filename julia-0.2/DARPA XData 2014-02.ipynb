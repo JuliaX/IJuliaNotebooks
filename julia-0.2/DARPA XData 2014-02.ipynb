{
 "metadata": {
  "language": "Julia",
  "name": ""
 },
 "nbformat": 3,
 "nbformat_minor": 0,
 "worksheets": [
  {
   "cells": [
    {
     "cell_type": "markdown",
     "metadata": {
      "slideshow": {
       "slide_type": "slide"
      }
     },
     "source": [
      "<div align=\"center\">![Julialang.org](https://raw2.github.com/JuliaLang/julialang.github.com/master/images/logo.png)</div>\n",
      "\n",
      "</svg></div>\n",
      "<div style=\"font-size:20px\" align=\"center\">\n",
      "<code>[julialang.org](http://julialang.org)</code>\n",
      "</div>\n"
     ]
    },
    {
     "cell_type": "markdown",
     "metadata": {},
     "source": [
      "<div style=\"font-size:24px\" align=\"center\">\n",
      "<br />\n",
      "Jiahao Chen<br />\n",
      "Keno Fischer<br />\n",
      "<br />\n",
      "<div style=\"font-size:20px\" align=\"center\">\n",
      "<code>{jiahao,kfischer}@csail.mit.edu<br /></code>\n",
      "</div>\n",
      "</div>"
     ]
    },
    {
     "cell_type": "markdown",
     "metadata": {
      "slideshow": {
       "slide_type": "slide"
      }
     },
     "source": [
      "# A fresh approach to technical computing\n",
      "\n",
      "Julia bridges the two-language divide with abstractions.\n",
      "\n",
      "Abstractions are a resource, not a nuisance.\n",
      "\n",
      "Abstractions in Julia are not constrained by performance or the need to obscure low-level implementation."
     ]
    },
    {
     "cell_type": "code",
     "collapsed": false,
     "input": [
      "using AudioIO, SIUnits, SIUnits.ShortUnits #Load some Julia packages\n",
      "\n",
      "immutable note{T<:Real}      #A user-defined data type\n",
      "    pitch::quantity(T, Hz)   #This field has units of Hz\n",
      "    duration::quantity(T, s)\n",
      "    timbre::Function         #This field is a function\n",
      "end\n",
      "\n",
      "#Generate a time-domain sample of a sound wave\n",
      "function waveform{T<:Real}(A::note{T}; samplingrate::quantity(T, Hz)=44100.0Hz)\n",
      "   Float32[A.timbre(2\u03c0*A.pitch*t) for t in 0s:1/samplingrate:A.duration]\n",
      "end"
     ],
     "language": "python",
     "metadata": {
      "slideshow": {
       "slide_type": "slide"
      }
     },
     "outputs": [
      {
       "metadata": {},
       "output_type": "pyout",
       "prompt_number": 1,
       "text": [
        "waveform (generic function with 1 method)"
       ]
      }
     ],
     "prompt_number": 1
    },
    {
     "cell_type": "code",
     "collapsed": false,
     "input": [
      "#AudioIO knows how to play a waveform using libportaudio\n",
      "import AudioIO.play\n",
      "#Now we define what it means to play a note\n",
      "play(A::note)=play(waveform(A))\n",
      "play(note(440.0Hz, 2.0s, x->sin(x)+0.1*sin(2x)+0.01*sin(4x)))"
     ],
     "language": "python",
     "metadata": {},
     "outputs": [
      {
       "metadata": {},
       "output_type": "pyout",
       "prompt_number": 3,
       "text": [
        "ArrayPlayer(true,[0.0f0,0.07763475f0,0.15467185f0,0.2305274f0,0.30464435f0,0.37650433f0,0.44563764f0,0.51163095f0,0.57413256f0,0.63285464f0  \u2026  -0.63285464f0,-0.57413256f0,-0.51163095f0,-0.44563764f0,-0.37650433f0,-0.30464435f0,-0.2305274f0,-0.15467185f0,-0.07763475f0,1.5564812f-13],1)"
       ]
      }
     ],
     "prompt_number": 3
    },
    {
     "cell_type": "code",
     "collapsed": false,
     "input": [
      "phase{T}(pitch::quantity(T, Hz), duration::quantity(T, s)) = pitch*duration\n",
      "code_native(phase, (quantity(Float32, Hz), quantity(Float32, s)))"
     ],
     "language": "python",
     "metadata": {},
     "outputs": [
      {
       "output_type": "stream",
       "stream": "stdout",
       "text": [
        "\t.section\t__TEXT,__text,regular,pure_instructions\n",
        "Filename: In[38]\n",
        "Source line: 1\n",
        "\tpush\tRBP\n",
        "\tmov\tRBP, RSP\n",
        "Source line: 1\n",
        "\tmovabs\tRAX, 4395453136\n",
        "\tcall\tRAX\n",
        "\tpop\tRBP\n",
        "\tret\n"
       ]
      }
     ],
     "prompt_number": 38
    },
    {
     "cell_type": "markdown",
     "metadata": {
      "slideshow": {
       "slide_type": "slide"
      }
     },
     "source": [
      "# Playing nice with others\n",
      "\n",
      "Julia can call native Fortran and C libraries with minimal fuss."
     ]
    },
    {
     "cell_type": "code",
     "collapsed": false,
     "input": [
      "#This calls libc's getenv() to query the SHELL environment variable\n",
      "myshell = ccall((:getenv, \"libc\"), Ptr{Uint8}, (Ptr{Uint8},), \"SHELL\")"
     ],
     "language": "python",
     "metadata": {},
     "outputs": [
      {
       "metadata": {},
       "output_type": "pyout",
       "prompt_number": 15,
       "text": [
        "Ptr{Uint8} @0x00007fff5c716c55"
       ]
      }
     ],
     "prompt_number": 15
    },
    {
     "cell_type": "code",
     "collapsed": false,
     "input": [
      "bytestring(myshell) #C string -> Julia string"
     ],
     "language": "python",
     "metadata": {},
     "outputs": [
      {
       "metadata": {},
       "output_type": "pyout",
       "prompt_number": 16,
       "text": [
        "\"/bin/bash\""
       ]
      }
     ],
     "prompt_number": 16
    },
    {
     "cell_type": "markdown",
     "metadata": {
      "slideshow": {
       "slide_type": "slide"
      }
     },
     "source": [
      "Others have built upon `ccall` to provide further interoperability with \n",
      "\n",
      "- Python ([PyCall.jl](https://github.com/stevengj/PyCall.jl))\n",
      "- Java ([JavaCall.jl](https://github.com/aviks/JavaCall.jl))\n",
      "- R ([Rif.jl](https://github.com/lgautier/Rif.jl)), Matlab ([Matlab.jl](https://github.com/lindahua/MATLAB.jl)), _Mathematica_ ([Mathematica.jl](https://github.com/one-more-minute/Mathematica.jl))\u2026"
     ]
    }
   ],
   "metadata": {}
  }
 ]
}