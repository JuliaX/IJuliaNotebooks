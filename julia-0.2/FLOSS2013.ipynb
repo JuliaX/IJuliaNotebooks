{
 "metadata": {
  "language": "Julia",
  "name": ""
 },
 "nbformat": 3,
 "nbformat_minor": 0,
 "worksheets": [
  {
   "cells": [
    {
     "cell_type": "markdown",
     "metadata": {},
     "source": [
      "Source: http://floss2013.libresoft.es/results.en.html"
     ]
    },
    {
     "cell_type": "code",
     "collapsed": false,
     "input": [
      "using DataFrames"
     ],
     "language": "python",
     "metadata": {},
     "outputs": [],
     "prompt_number": 1
    },
    {
     "cell_type": "code",
     "collapsed": false,
     "input": [
      "df = readtable(\"survey_68745_R_data_file.csv\")"
     ],
     "language": "python",
     "metadata": {},
     "outputs": [
      {
       "ename": "LoadError",
       "evalue": "Saw 1904 rows, 262 columns and 498880 fields\n * Line 1 has 264 columns\n\nwhile loading In[5], in expression starting on line 1",
       "output_type": "pyerr",
       "traceback": [
        "Saw 1904 rows, 262 columns and 498880 fields\n * Line 1 has 264 columns\n\nwhile loading In[5], in expression starting on line 1",
        " in error at error.jl:21",
        " in findcorruption at /Users/jiahao/.julia/v0.3/DataFrames/src/dataframe/io.jl:684",
        " in readtable! at /Users/jiahao/.julia/v0.3/DataFrames/src/dataframe/io.jl:735",
        " in readtable at /Users/jiahao/.julia/v0.3/DataFrames/src/dataframe/io.jl:818",
        " in readtable at /Users/jiahao/.julia/v0.3/DataFrames/src/dataframe/io.jl:882"
       ]
      }
     ],
     "prompt_number": 5
    },
    {
     "cell_type": "code",
     "collapsed": false,
     "input": [],
     "language": "python",
     "metadata": {},
     "outputs": []
    }
   ],
   "metadata": {}
  }
 ]
}