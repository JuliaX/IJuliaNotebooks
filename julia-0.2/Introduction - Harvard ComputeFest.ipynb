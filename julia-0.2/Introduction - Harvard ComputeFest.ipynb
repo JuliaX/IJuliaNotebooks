{
 "metadata": {
  "language": "Julia",
  "name": ""
 },
 "nbformat": 3,
 "nbformat_minor": 0,
 "worksheets": [
  {
   "cells": [
    {
     "cell_type": "markdown",
     "metadata": {},
     "source": [
      "What did _you_ say you wanted from Julia?\n",
      "\n",
      "- A \"faster and easier MATLAB/Python\"\n",
      "- Scientific simulations\n",
      "- Programming embedded devices\n",
      "- Easy to write parallel code"
     ]
    },
    {
     "cell_type": "markdown",
     "metadata": {},
     "source": [
      "> Hundreds* of people have learned to use Amber; don\u2019t be easily discouraged.\n",
      "> - AMBER user manual\n",
      "\n",
      "*In version 11 and higher, this was changed to \"thousands\""
     ]
    },
    {
     "cell_type": "markdown",
     "metadata": {},
     "source": [
      "> Every man is a revolutionist concerning the thing he understands. For example, every person who has mastered a profession is a sceptic concerning it, and consequently a revolutionist.\n",
      ">\n",
      "> - _[John Tanner, \"The Revolutionist\u2019s Handbook and Pocket Companion\", in George Bernard Shaw, \"Man and Superman\" (1903)](http://www.bartleby.com/157/5.html)_"
     ]
    },
    {
     "cell_type": "markdown",
     "metadata": {},
     "source": [
      "|                         | [Julia](https://github.com/JuliaStats/Distributions.jl) | [MATLAB](http://www.mathworks.com/help/stats/random-number-generation.html) | [R](http://www.stat.umn.edu/geyer/old/5101/rlook.html)\n",
      "|-|-|-|\n",
      "|Sample normalized Gaussian random variate | `randn()` | `randn()` | `rnorm(1)` | \n",
      "|Sample Gaussian random variate | `rand(Normal(mu, sig))`| `normrnd(mu,sigma)` | `rnorm(1, mean=m, sd=s)` |\n",
      "|Sample \u03c7\u00b2 random variate | `rand(Chisq(\u03bd))` | `chi2rnd(V)` | `rchisq(1, df=d)` | \n",
      "|Sample \u03b2 random variate | `rand(Beta(\u03b1, \u03b2))` | `betarnd(a, b)` | `rbeta(1,  shape1=a, shape2=b)` |\n"
     ]
    }
   ],
   "metadata": {}
  }
 ]
}